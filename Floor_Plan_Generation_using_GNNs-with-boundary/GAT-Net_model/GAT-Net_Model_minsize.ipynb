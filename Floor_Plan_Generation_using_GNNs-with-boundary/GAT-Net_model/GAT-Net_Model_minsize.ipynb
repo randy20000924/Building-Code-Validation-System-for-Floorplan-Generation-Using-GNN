{
 "cells": [
  {
   "cell_type": "markdown",
   "id": "831d3947",
   "metadata": {
    "papermill": {
     "duration": 0.010915,
     "end_time": "2023-04-30T10:20:23.556178",
     "exception": false,
     "start_time": "2023-04-30T10:20:23.545263",
     "status": "completed"
    },
    "tags": []
   },
   "source": [
    "# GAT-Net model\n",
    "## A Residual Graph Attention Network for Floor Plan Analysis.\n",
    "\n",
    "### Table of Contents\n",
    "<ul>\n",
    "<li><a href=\"#intro\">Introduction</a></li>\n",
    "    <ul>\n",
    "        <li><a href=\"#Imports\">Imports</a></li>\n",
    "        <li><a href=\"#func\">Functions used</a></li>\n",
    "    </ul>\n",
    "<li><a href=\"#wrangling\">Data Wrangling</a></li>\n",
    "<li><a href=\"#model\">GAT-Net model</a></li>\n",
    "    <ul>\n",
    "        <li><a href=\"#dataLoader\">Data Loader</a></li>\n",
    "        <li><a href=\"#archi\">Architecture</a></li>\n",
    "        <li><a href=\"#train\">Training</a></li> \n",
    "    </ul>\n",
    "</ul>"
   ]
  },
  {
   "cell_type": "markdown",
   "id": "4fb79d23",
   "metadata": {
    "papermill": {
     "duration": 0.009277,
     "end_time": "2023-04-30T10:20:23.575117",
     "exception": false,
     "start_time": "2023-04-30T10:20:23.565840",
     "status": "completed"
    },
    "tags": []
   },
   "source": [
    "<a id='intro'></a>\n",
    "## Introduction\n",
    "\n",
    "* In this notebook, we will implement the GAT-Net model for floor plan analysis and room size estimation.\n",
    "* The model is trained on:\n",
    "   * The graph version of the RPlan dataset.\n",
    "     * The Image - Source version - of Rplan dataset is [here](http://staff.ustc.edu.cn/~fuxm/projects/DeepLayout/index.html)\n",
    "     * The Graph version of RPlan dataset is created using the generating-graphs notebook. You can find it [here]()\n",
    "   * Nvidia P100 GPU.\n",
    "   * Core of the model is the Graph Attention Network (GAT) layers.\n",
    "\n",
    "> The Graph version of RPlan dataset is created using the generating-graphs.ipynb notebook. **You can find it in the Creating_Data folder.**"
   ]
  },
  {
   "cell_type": "markdown",
   "id": "dcb4f19a",
   "metadata": {
    "papermill": {
     "duration": 0.009341,
     "end_time": "2023-04-30T10:20:23.623523",
     "exception": false,
     "start_time": "2023-04-30T10:20:23.614182",
     "status": "completed"
    },
    "tags": []
   },
   "source": [
    "<a id='Imports'></a>\n",
    "### Imports"
   ]
  },
  {
   "cell_type": "code",
   "execution_count": 203,
   "id": "c6e32f94",
   "metadata": {},
   "outputs": [
    {
     "name": "stdout",
     "output_type": "stream",
     "text": [
      "min_area num: 287\n",
      "min_area range: min = -1.426190194973662 , max = 1.4091330962396587\n",
      "min_area avg: 0.003820419671383892\n"
     ]
    },
    {
     "data": {
      "image/png": "[encoded data removed]",
      "text/plain": [
       "<Figure size 640x480 with 1 Axes>"
      ]
     },
     "metadata": {},
     "output_type": "display_data"
    }
   ],
   "source": [
    "import pickle\n",
    "import matplotlib.pyplot as plt\n",
    "\n",
    "with open(r\"C:/Users/jensonyu/Documents/ENGR project/Floor_Plan_Generation_using_GNNs-with-boundary/Creating_Dataset/graphs/Graphs_living_to_all_normalized.pkl\", \"rb\") as f:\n",
    "    dataset = pickle.load(f)\n",
    "\n",
    "min_areas = []\n",
    "\n",
    "for i, G in enumerate(dataset[:50]):  \n",
    "    for node, attrs in G.nodes(data=True):\n",
    "        if \"min_area\" in attrs:\n",
    "            min_areas.append(attrs[\"min_area\"])\n",
    "\n",
    "print(\"min_area num:\", len(min_areas))\n",
    "print(\"min_area range: min =\", min(min_areas), \", max =\", max(min_areas))\n",
    "print(\"min_area avg:\", sum(min_areas)/len(min_areas))\n",
    "\n",
    "plt.hist(min_areas, bins=20, edgecolor='black')\n",
    "plt.title(\"Distribution of min_area\")\n",
    "plt.xlabel(\"min_area\")\n",
    "plt.ylabel(\"count\")\n",
    "plt.show()\n"
   ]
  },
  {
   "cell_type": "code",
   "execution_count": 204,
   "id": "a7b7187a",
   "metadata": {
    "execution": {
     "iopub.execute_input": "2023-04-30T10:20:23.643406Z",
     "iopub.status.busy": "2023-04-30T10:20:23.643135Z",
     "iopub.status.idle": "2023-04-30T10:20:46.497421Z",
     "shell.execute_reply": "2023-04-30T10:20:46.496130Z"
    },
    "papermill": {
     "duration": 22.867114,
     "end_time": "2023-04-30T10:20:46.500051",
     "exception": false,
     "start_time": "2023-04-30T10:20:23.632937",
     "status": "completed"
    },
    "tags": []
   },
   "outputs": [],
   "source": [
    "# Only for kaggle\n",
    "# !pip install torch_geometric"
   ]
  },
  {
   "cell_type": "code",
   "execution_count": 205,
   "id": "098eda3a",
   "metadata": {
    "execution": {
     "iopub.execute_input": "2023-04-30T10:20:46.524574Z",
     "iopub.status.busy": "2023-04-30T10:20:46.524264Z",
     "iopub.status.idle": "2023-04-30T10:20:56.397717Z",
     "shell.execute_reply": "2023-04-30T10:20:56.396511Z"
    },
    "papermill": {
     "duration": 9.888635,
     "end_time": "2023-04-30T10:20:56.400264",
     "exception": false,
     "start_time": "2023-04-30T10:20:46.511629",
     "status": "completed"
    },
    "tags": []
   },
   "outputs": [],
   "source": [
    "# Not included packages in kaggle\n",
    "\n",
    "# Install torch_geometric\n",
    "# !pip install /kaggle/input/torch-geometric/torch_sparse-0.6.16-cp37-cp37m-linux_x86_64.whl -q\n",
    "# !pip install /kaggle/input/torch-geometric/torch_scatter-2.1.0-cp37-cp37m-linux_x86_64.whl -q\n",
    "\n",
    "# # # library for getting distinct colores\n",
    "# !pip install distinctipy -q"
   ]
  },
  {
   "cell_type": "code",
   "execution_count": 206,
   "id": "6967b981",
   "metadata": {
    "execution": {
     "iopub.execute_input": "2023-04-30T10:20:56.428440Z",
     "iopub.status.busy": "2023-04-30T10:20:56.427796Z",
     "iopub.status.idle": "2023-04-30T10:20:59.738575Z",
     "shell.execute_reply": "2023-04-30T10:20:59.737533Z"
    },
    "papermill": {
     "duration": 3.32986,
     "end_time": "2023-04-30T10:20:59.741263",
     "exception": false,
     "start_time": "2023-04-30T10:20:56.411403",
     "status": "completed"
    },
    "tags": []
   },
   "outputs": [],
   "source": [
    "# for data wrangling\n",
    "import pickle\n",
    "import networkx as nx\n",
    "import matplotlib.pyplot as plt\n",
    "import numpy as np\n",
    "import pandas as pd\n",
    "import distinctipy\n",
    "from torch_geometric.utils import from_networkx\n",
    "\n",
    "# to show advance in for loops\n",
    "from tqdm import tqdm\n",
    "\n",
    "# Using pytorch geometric\n",
    "import torch\n",
    "import torch.nn as nn\n",
    "from torch_geometric.loader import DataLoader\n",
    "from torch_geometric.data import Data, Batch\n",
    "from torch.utils.data import Dataset\n",
    "import torch_geometric.transforms as T\n",
    "\n",
    "\n",
    "# For the GNN model\n",
    "import torch.nn.functional as F\n",
    "from torch_geometric.nn import GATConv\n",
    "\n",
    "# for my pc\n",
    "url_living_to_all = r\"C:/Users/jensonyu/Documents/ENGR project/Floor_Plan_Generation_using_GNNs-with-boundary/Creating_Dataset/graphs/Graphs_living_to_all_normalized.pkl\"\n",
    "url_boundary = r\"C:/Users/jensonyu/Documents/ENGR project/Floor_Plan_Generation_using_GNNs-with-boundary/Creating_Dataset/graphs/boundaries.pkl\"\n",
    "\n",
    "# # for kaggle\n",
    "# url_real = \"/kaggle/input/planify-graphs-all-forms/graphs/Graphs_real.pkl\"\n",
    "# url_boundary = \"/kaggle/input/planify-graphs-all-forms/graphs/boundaries.pkl\""
   ]
  },
  {
   "cell_type": "markdown",
   "id": "f2d6dcd5",
   "metadata": {
    "papermill": {
     "duration": 0.010786,
     "end_time": "2023-04-30T10:20:59.763577",
     "exception": false,
     "start_time": "2023-04-30T10:20:59.752791",
     "status": "completed"
    },
    "tags": []
   },
   "source": [
    "<a id='func'></a>\n",
    "### Functions used"
   ]
  },
  {
   "cell_type": "code",
   "execution_count": 207,
   "id": "0010597f",
   "metadata": {
    "execution": {
     "iopub.execute_input": "2023-04-30T10:20:59.788185Z",
     "iopub.status.busy": "2023-04-30T10:20:59.786378Z",
     "iopub.status.idle": "2023-04-30T10:21:00.014641Z",
     "shell.execute_reply": "2023-04-30T10:21:00.013566Z"
    },
    "papermill": {
     "duration": 0.242503,
     "end_time": "2023-04-30T10:21:00.017098",
     "exception": false,
     "start_time": "2023-04-30T10:20:59.774595",
     "status": "completed"
    },
    "tags": []
   },
   "outputs": [],
   "source": [
    "geoms_columns = ['inner', 'living', 'master', 'kitchen', 'bathroom', 'dining', 'child', 'study',\n",
    "                   'second_room', 'guest', 'balcony', 'storage', 'wall-in',\n",
    "                    'outer_wall', 'front', 'inner_wall', 'interior',\n",
    "                   'front_door', 'outer_wall', 'entrance']\n",
    "\n",
    "N = len(geoms_columns)\n",
    "colors = (np.array(distinctipy.get_colors(N)) * 255).astype(np.uint8)\n",
    "room_color = {room_name: colors[i] for i, room_name in enumerate(geoms_columns)}"
   ]
  },
  {
   "cell_type": "code",
   "execution_count": 208,
   "id": "dec61c20",
   "metadata": {
    "execution": {
     "iopub.execute_input": "2023-04-30T10:21:00.041382Z",
     "iopub.status.busy": "2023-04-30T10:21:00.040532Z",
     "iopub.status.idle": "2023-04-30T10:21:00.059768Z",
     "shell.execute_reply": "2023-04-30T10:21:00.058870Z"
    },
    "papermill": {
     "duration": 0.033794,
     "end_time": "2023-04-30T10:21:00.062053",
     "exception": false,
     "start_time": "2023-04-30T10:21:00.028259",
     "status": "completed"
    },
    "tags": []
   },
   "outputs": [],
   "source": [
    "def draw_graph_nodes(G, living_to_all=False):\n",
    "    #  nodes positions for drawing, note that we invert the y pos\n",
    "    pos = {node: (G.nodes[node]['actualCentroid_x'], -G.nodes[node]['actualCentroid_y']) for node in G.nodes}\n",
    "    \n",
    "    scales = [G.nodes[node]['roomSize'] * 10000 for node in G] \n",
    "    color_map = [room_color[G.nodes[node]['roomType_name']]/255 for node in G]\n",
    "    edge_labels = nx.get_edge_attributes(G, 'distance')\n",
    "\n",
    "    \n",
    "    nx.draw_networkx_nodes(G, pos=pos, node_size=scales, node_color=color_map);\n",
    "    nx.draw_networkx_edges(G, pos=pos, edge_color='b');\n",
    "    nx.draw_networkx_labels(G, pos=pos, font_size=8);\n",
    "\n",
    "    if living_to_all:\n",
    "        nx.draw_networkx_edge_labels(G, pos=pos, edge_labels=edge_labels)\n",
    "\n",
    "    \n",
    "    # # Drawing the graph inside a good boundary.\n",
    "    # x_coords  = [pos[node][0] for node in pos]\n",
    "    # y_coords  = [pos[node][1] for node in pos]\n",
    "    # threshold = max(scales) / 100\n",
    "    \n",
    "    # plt.xlim(min(x_coords) - threshold, max(x_coords) + threshold)\n",
    "    plt.xlim(-10, 266)\n",
    "    plt.ylim(-266, 10)\n",
    "    \n",
    "\n",
    "def draw_graph_boundary(G):\n",
    "    #  nodes positions for drawing, note that we invert the y pos\n",
    "    pos = {node: (G.nodes[node]['centroid'][0], -G.nodes[node]['centroid'][1])  for node in G.nodes}\n",
    "    \n",
    "    door_color = '#90EE90'\n",
    "    other_nodes_color = '#0A2A5B'\n",
    "    color_map = [door_color if G.nodes[node]['type'] == 1 else other_nodes_color for node in G.nodes]\n",
    "    \n",
    "    # nx.draw(G, pos=pos, with_labels=True, node_color=color_map, font_color='w', font_size=12)\n",
    "    nx.draw_networkx_nodes(G, pos=pos, node_size=150, node_color=color_map);\n",
    "    nx.draw_networkx_edges(G, pos=pos)\n",
    "    \n",
    "    plt.xlim(-10, 266)\n",
    "    plt.ylim(-266, 10)\n",
    "    \n",
    "    \n",
    "# For statistics\n",
    "def get_max_min_x_y(graphs):\n",
    "    max_x = 0\n",
    "    max_y = 0\n",
    "    min_x = float('inf')\n",
    "    min_y = float('inf')\n",
    "    \n",
    "    for G in tqdm(graphs, desc=\"Getting maximum x, y\", total=len(graphs)):\n",
    "        max_x_in_graph = G.x.T[1].max().item()\n",
    "        max_y_in_graph = G.x.T[2].max().item()\n",
    "        \n",
    "        min_x_in_graph = G.x.T[1].min().item()\n",
    "        min_y_in_graph = G.x.T[2].min().item()\n",
    "        \n",
    "        if max_x_in_graph > max_x:\n",
    "            max_x = max_x_in_graph\n",
    "        if max_y_in_graph > max_y:\n",
    "            max_y = max_y_in_graph\n",
    "            \n",
    "        if min_x_in_graph < min_x:\n",
    "            min_x = min_x_in_graph\n",
    "        if min_y_in_graph < min_y:\n",
    "            min_y = min_y_in_graph\n",
    "            \n",
    "    values = {'max_x': max_x, 'max_y': max_y, 'min_x': min_x, 'min_y': min_y}\n",
    "    return values\n",
    "\n",
    "\n",
    "def get_all_x_y(graphs):\n",
    "    \"\"\"Get all values of x and y from all graphs\n",
    "        Input: list of graphs\n",
    "        Output: x and y as pandas series\n",
    "    \"\"\"\n",
    "    x = []\n",
    "    y = []\n",
    "    for i, G in tqdm(enumerate(graphs), desc=\"getting all Xs, Ys\", total=len(graphs)):\n",
    "        for i in range(len(G.x)):\n",
    "            x.append(G.x[i][1].item())\n",
    "            y.append(G.x[i][2].item())\n",
    "            \n",
    "\n",
    "    x = pd.Series(x)\n",
    "    y = pd.Series(y)\n",
    "\n",
    "    return x, y\n",
    "\n",
    "def boxplot_centrValues(x, y):\n",
    "    fig, ax = plt.subplots()\n",
    "\n",
    "    # Plot the boxplots\n",
    "    ax.boxplot([x, y])\n",
    "\n",
    "    # Set the xtick labels\n",
    "    ax.set_xticklabels(['x', 'y'])\n",
    "\n",
    "    # Add axis labels and title\n",
    "    ax.set_xlabel('Data')\n",
    "    ax.set_ylabel('Value')\n",
    "    ax.set_title('Boxplot of x and y in all graphs')\n",
    "\n",
    "    # Show the plot\n",
    "    plt.show()\n",
    "    \n",
    "\n",
    "def plot_histograms(x, y):\n",
    "    x.hist(density=True, bins=100, alpha=0.6, label='x');\n",
    "    y.hist(density=True, bins=100, alpha=0.3, label='y');\n",
    "    plt.legend();\n",
    "    plt.title('Distribution of x and y');"
   ]
  },
  {
   "cell_type": "markdown",
   "id": "67041bbd",
   "metadata": {
    "papermill": {
     "duration": 0.011018,
     "end_time": "2023-04-30T10:21:00.083940",
     "exception": false,
     "start_time": "2023-04-30T10:21:00.072922",
     "status": "completed"
    },
    "tags": []
   },
   "source": [
    "<a id='wrangling'></a>\n",
    "## Data wrangling\n"
   ]
  },
  {
   "cell_type": "code",
   "execution_count": 209,
   "id": "48d14a4b",
   "metadata": {
    "execution": {
     "iopub.execute_input": "2023-04-30T10:21:00.107384Z",
     "iopub.status.busy": "2023-04-30T10:21:00.106613Z",
     "iopub.status.idle": "2023-04-30T10:21:04.295344Z",
     "shell.execute_reply": "2023-04-30T10:21:04.293732Z"
    },
    "papermill": {
     "duration": 4.202569,
     "end_time": "2023-04-30T10:21:04.297604",
     "exception": false,
     "start_time": "2023-04-30T10:21:00.095035",
     "status": "completed"
    },
    "tags": []
   },
   "outputs": [
    {
     "name": "stdout",
     "output_type": "stream",
     "text": [
      "Graph with 8 nodes and 7 edges\n"
     ]
    }
   ],
   "source": [
    "with open(url_living_to_all, 'rb') as f:\n",
    "    Graphs = pickle.load(f)\n",
    "    \n",
    "G = Graphs[1911]\n",
    "print(G)"
   ]
  },
  {
   "cell_type": "markdown",
   "id": "a0b4d39a",
   "metadata": {
    "papermill": {
     "duration": 0.011121,
     "end_time": "2023-04-30T10:21:04.320103",
     "exception": false,
     "start_time": "2023-04-30T10:21:04.308982",
     "status": "completed"
    },
    "tags": []
   },
   "source": [
    "> Considering boundaries"
   ]
  },
  {
   "cell_type": "code",
   "execution_count": 210,
   "id": "99d9e666",
   "metadata": {
    "execution": {
     "iopub.execute_input": "2023-04-30T10:21:04.343164Z",
     "iopub.status.busy": "2023-04-30T10:21:04.342870Z",
     "iopub.status.idle": "2023-04-30T10:21:12.011657Z",
     "shell.execute_reply": "2023-04-30T10:21:12.009518Z"
    },
    "papermill": {
     "duration": 7.683332,
     "end_time": "2023-04-30T10:21:12.014190",
     "exception": false,
     "start_time": "2023-04-30T10:21:04.330858",
     "status": "completed"
    },
    "tags": []
   },
   "outputs": [
    {
     "name": "stdout",
     "output_type": "stream",
     "text": [
      "Graph with 9 nodes and 9 edges\n"
     ]
    }
   ],
   "source": [
    "with open(url_boundary, 'rb') as f:\n",
    "    boundaries = pickle.load(f)\n",
    "    \n",
    "b = boundaries[1911]\n",
    "print(b)"
   ]
  },
  {
   "cell_type": "code",
   "execution_count": 211,
   "id": "f4d23815",
   "metadata": {
    "execution": {
     "iopub.execute_input": "2023-04-30T10:21:12.037806Z",
     "iopub.status.busy": "2023-04-30T10:21:12.037487Z",
     "iopub.status.idle": "2023-04-30T10:21:12.041780Z",
     "shell.execute_reply": "2023-04-30T10:21:12.040656Z"
    },
    "papermill": {
     "duration": 0.020873,
     "end_time": "2023-04-30T10:21:12.046291",
     "exception": false,
     "start_time": "2023-04-30T10:21:12.025418",
     "status": "completed"
    },
    "tags": []
   },
   "outputs": [
    {
     "data": {
      "image/png": "[encoded data removed]",
      "text/plain": [
       "<Figure size 640x480 with 1 Axes>"
      ]
     },
     "metadata": {},
     "output_type": "display_data"
    }
   ],
   "source": [
    "draw_graph_boundary(b)\n",
    "draw_graph_nodes(G)"
   ]
  },
  {
   "cell_type": "code",
   "execution_count": 212,
   "id": "8abc8a29",
   "metadata": {
    "execution": {
     "iopub.execute_input": "2023-04-30T10:21:12.098602Z",
     "iopub.status.busy": "2023-04-30T10:21:12.097652Z",
     "iopub.status.idle": "2023-04-30T10:22:11.218901Z",
     "shell.execute_reply": "2023-04-30T10:22:11.217753Z"
    },
    "papermill": {
     "duration": 59.146567,
     "end_time": "2023-04-30T10:22:11.222383",
     "exception": false,
     "start_time": "2023-04-30T10:21:12.075816",
     "status": "completed"
    },
    "tags": []
   },
   "outputs": [
    {
     "data": {
      "text/plain": [
       "Data(edge_index=[2, 10], roomType_name=[6], rec_w=[6], rec_h=[6], roomSize=[6], x=[6, 4], edge_attr=[10, 1])"
      ]
     },
     "execution_count": 212,
     "metadata": {},
     "output_type": "execute_result"
    }
   ],
   "source": [
    "def convert_networkx_Graphs_to_pyTorchGraphs(G):\n",
    "    \"\"\"Converting networkx graphs to pytorchGeo graphs with min_area\"\"\"\n",
    "    features = ['roomType_embd', 'actualCentroid_x', 'actualCentroid_y', 'min_area']\n",
    "    G_new = from_networkx(G, group_node_attrs=features, group_edge_attrs=['distance'])\n",
    "    return G_new\n",
    "\n",
    "Graphs_pyTorch = list(map(convert_networkx_Graphs_to_pyTorchGraphs, Graphs))\n",
    "\n",
    "Graphs_pyTorch[0]"
   ]
  },
  {
   "cell_type": "code",
   "execution_count": 213,
   "id": "4ba11eec",
   "metadata": {
    "execution": {
     "iopub.execute_input": "2023-04-30T10:22:11.304144Z",
     "iopub.status.busy": "2023-04-30T10:22:11.303488Z",
     "iopub.status.idle": "2023-04-30T10:23:08.775545Z",
     "shell.execute_reply": "2023-04-30T10:23:08.774350Z"
    },
    "papermill": {
     "duration": 57.515212,
     "end_time": "2023-04-30T10:23:08.778152",
     "exception": false,
     "start_time": "2023-04-30T10:22:11.262940",
     "status": "completed"
    },
    "tags": []
   },
   "outputs": [
    {
     "data": {
      "text/plain": [
       "Data(edge_index=[2, 26], x=[13, 3], edge_attr=[26, 1])"
      ]
     },
     "execution_count": 213,
     "metadata": {},
     "output_type": "execute_result"
    }
   ],
   "source": [
    "def convert_networkx_Boundaries_to_pyTorchGraphs(b):\n",
    "    \"\"\"Converting networkx boundary graphs to PyTorchGeo graphs\n",
    "    \"\"\"\n",
    "    b_new = from_networkx(b, group_node_attrs=['type', 'centroid'], group_edge_attrs=['distance'])\n",
    "    return b_new\n",
    "\n",
    "Boundaries_pyTorch = list(map(convert_networkx_Boundaries_to_pyTorchGraphs, boundaries))\n",
    "\n",
    "Boundaries_pyTorch[0]"
   ]
  },
  {
   "cell_type": "markdown",
   "id": "53665fd1",
   "metadata": {
    "papermill": {
     "duration": 0.067906,
     "end_time": "2023-04-30T10:23:08.913931",
     "exception": false,
     "start_time": "2023-04-30T10:23:08.846025",
     "status": "completed"
    },
    "tags": []
   },
   "source": [
    "> Some statistics, To make normalization for x and y but to be able to get back to the real values"
   ]
  },
  {
   "cell_type": "code",
   "execution_count": 214,
   "id": "76f404ef",
   "metadata": {
    "execution": {
     "iopub.execute_input": "2023-04-30T10:23:13.105816Z",
     "iopub.status.busy": "2023-04-30T10:23:13.105458Z",
     "iopub.status.idle": "2023-04-30T10:23:18.484661Z",
     "shell.execute_reply": "2023-04-30T10:23:18.483369Z"
    },
    "papermill": {
     "duration": 5.452174,
     "end_time": "2023-04-30T10:23:18.486999",
     "exception": false,
     "start_time": "2023-04-30T10:23:13.034825",
     "status": "completed"
    },
    "tags": []
   },
   "outputs": [
    {
     "name": "stderr",
     "output_type": "stream",
     "text": [
      "getting all Xs, Ys: 100%|██████████| 80787/80787 [00:02<00:00, 29961.44it/s]\n"
     ]
    },
    {
     "data": {
      "text/plain": [
       "(234.5, 234.0, 20.0, 20.5)"
      ]
     },
     "execution_count": 214,
     "metadata": {},
     "output_type": "execute_result"
    }
   ],
   "source": [
    "G_x, G_y = get_all_x_y(Graphs_pyTorch)\n",
    "G_x.max(), G_y.max(), G_x.min(), G_y.min()"
   ]
  },
  {
   "cell_type": "code",
   "execution_count": 215,
   "id": "409ecb64",
   "metadata": {
    "execution": {
     "iopub.execute_input": "2023-04-30T10:23:18.634896Z",
     "iopub.status.busy": "2023-04-30T10:23:18.633637Z",
     "iopub.status.idle": "2023-04-30T10:23:18.867413Z",
     "shell.execute_reply": "2023-04-30T10:23:18.866363Z"
    },
    "papermill": {
     "duration": 0.309931,
     "end_time": "2023-04-30T10:23:18.869814",
     "exception": false,
     "start_time": "2023-04-30T10:23:18.559883",
     "status": "completed"
    },
    "tags": []
   },
   "outputs": [
    {
     "data": {
      "image/png": "[encoded data removed]",
      "text/plain": [
       "<Figure size 640x480 with 1 Axes>"
      ]
     },
     "metadata": {},
     "output_type": "display_data"
    }
   ],
   "source": [
    "# making box plot for x and y for the graphs\n",
    "boxplot_centrValues(G_x, G_y)"
   ]
  },
  {
   "cell_type": "code",
   "execution_count": 216,
   "id": "8cd930ec",
   "metadata": {
    "execution": {
     "iopub.execute_input": "2023-04-30T10:23:19.018307Z",
     "iopub.status.busy": "2023-04-30T10:23:19.017286Z",
     "iopub.status.idle": "2023-04-30T10:23:19.676715Z",
     "shell.execute_reply": "2023-04-30T10:23:19.675689Z"
    },
    "papermill": {
     "duration": 0.735423,
     "end_time": "2023-04-30T10:23:19.678881",
     "exception": false,
     "start_time": "2023-04-30T10:23:18.943458",
     "status": "completed"
    },
    "tags": []
   },
   "outputs": [
    {
     "data": {
      "image/png": "[encoded data removed]",
      "text/plain": [
       "<Figure size 640x480 with 1 Axes>"
      ]
     },
     "metadata": {},
     "output_type": "display_data"
    }
   ],
   "source": [
    "plot_histograms(G_x, G_y)"
   ]
  },
  {
   "cell_type": "markdown",
   "id": "d52c4dd2",
   "metadata": {
    "papermill": {
     "duration": 0.072487,
     "end_time": "2023-04-30T10:23:19.824165",
     "exception": false,
     "start_time": "2023-04-30T10:23:19.751678",
     "status": "completed"
    },
    "tags": []
   },
   "source": [
    "> And we saw the box plots so there is no outliers, and the distribution is normal\n",
    "> \n",
    "> We will use z-score normalization, by taking a general mean and std for each of x and y"
   ]
  },
  {
   "cell_type": "code",
   "execution_count": 217,
   "id": "32ba3c27",
   "metadata": {
    "execution": {
     "iopub.execute_input": "2023-04-30T10:23:19.973287Z",
     "iopub.status.busy": "2023-04-30T10:23:19.972099Z",
     "iopub.status.idle": "2023-04-30T10:23:19.991607Z",
     "shell.execute_reply": "2023-04-30T10:23:19.990616Z"
    },
    "papermill": {
     "duration": 0.096711,
     "end_time": "2023-04-30T10:23:19.994004",
     "exception": false,
     "start_time": "2023-04-30T10:23:19.897293",
     "status": "completed"
    },
    "tags": []
   },
   "outputs": [
    {
     "name": "stdout",
     "output_type": "stream",
     "text": [
      "And we saw the box plots so there is no outliers, and the distribution is normal\n",
      "We will use z-score normalization\n"
     ]
    }
   ],
   "source": [
    "# print(f\"Maximun x: {max_x}, Maximum y: {max_y}, Minimum x: {min_x}, Minimum y: {min_y}\")\n",
    "print(\"And we saw the box plots so there is no outliers, and the distribution is normal\")\n",
    "G_x_mean = G_x.mean()\n",
    "G_y_mean = G_y.mean()\n",
    "G_x_std  = G_x.std()\n",
    "G_y_std  = G_y.std()\n",
    "# collect all min_area values\n",
    "G_min_area = [G.x[:, 3].tolist() for G in Graphs_pyTorch]\n",
    "G_min_area = pd.Series([item for sublist in G_min_area for item in sublist])\n",
    "\n",
    "min_area_mean = G_min_area.mean()\n",
    "min_area_std  = G_min_area.std()\n",
    "\n",
    "print(\"We will use z-score normalization\")"
   ]
  },
  {
   "cell_type": "markdown",
   "id": "5fbedeca",
   "metadata": {
    "papermill": {
     "duration": 0.152433,
     "end_time": "2023-04-30T10:23:20.235823",
     "exception": false,
     "start_time": "2023-04-30T10:23:20.083390",
     "status": "completed"
    },
    "tags": []
   },
   "source": [
    "> There are many types of `rooms` but we will give them a defualt number = 1.\n",
    "> So, also we will decrease the embedings to be between 0:6"
   ]
  },
  {
   "cell_type": "code",
   "execution_count": 218,
   "id": "959f3b14",
   "metadata": {
    "execution": {
     "iopub.execute_input": "2023-04-30T10:23:20.383438Z",
     "iopub.status.busy": "2023-04-30T10:23:20.383079Z",
     "iopub.status.idle": "2023-04-30T10:23:24.561008Z",
     "shell.execute_reply": "2023-04-30T10:23:24.559730Z"
    },
    "papermill": {
     "duration": 4.256402,
     "end_time": "2023-04-30T10:23:24.565462",
     "exception": false,
     "start_time": "2023-04-30T10:23:20.309060",
     "status": "completed"
    },
    "tags": []
   },
   "outputs": [
    {
     "name": "stdout",
     "output_type": "stream",
     "text": [
      "Befor: G_1 embedings are: tensor([[  0.0000,  81.9371, 137.1722,   1.4091],\n",
      "        [  1.0000, 181.5403, 165.1201,   0.7003],\n",
      "        [  2.0000,  59.5000,  55.5000,  -0.7174],\n",
      "        [  3.0000, 192.0000, 127.0000,  -1.4262],\n",
      "        [  3.0000, 120.7426, 100.7954,  -1.4262],\n",
      "        [  7.0000, 132.6687, 167.8575,   0.3459],\n",
      "        [  7.0000, 152.0459, 100.5418,   0.3459]])\n"
     ]
    },
    {
     "name": "stderr",
     "output_type": "stream",
     "text": [
      "100%|██████████| 80787/80787 [00:02<00:00, 39309.66it/s]"
     ]
    },
    {
     "name": "stdout",
     "output_type": "stream",
     "text": [
      "After: G_1 embedings are: tensor([[  0.0000,  81.9371, 137.1722,   1.4091],\n",
      "        [  1.0000, 181.5403, 165.1201,   0.7003],\n",
      "        [  2.0000,  59.5000,  55.5000,  -0.7174],\n",
      "        [  3.0000, 192.0000, 127.0000,  -1.4262],\n",
      "        [  3.0000, 120.7426, 100.7954,  -1.4262],\n",
      "        [  1.0000, 132.6687, 167.8575,   0.3459],\n",
      "        [  1.0000, 152.0459, 100.5418,   0.3459]])\n"
     ]
    },
    {
     "name": "stderr",
     "output_type": "stream",
     "text": [
      "\n"
     ]
    }
   ],
   "source": [
    "print(f'Befor: G_1 embedings are: {Graphs_pyTorch[1].x}')\n",
    "for G in tqdm(Graphs_pyTorch, total=len(Graphs_pyTorch)):\n",
    "    for j ,value in enumerate(G.x):\n",
    "        type_ = int(value[0].item())\n",
    "        \n",
    "        if type_ in [1, 4, 5, 6, 7, 8]:\n",
    "            G.x[j][0] = 1\n",
    "        \n",
    "        # making all labels from 0 to 6 only to help one_hotting\n",
    "        elif type_ == 9:\n",
    "            G.x[j][0] = 4\n",
    "        elif type_ == 10:\n",
    "            G.x[j][0] = 5\n",
    "        elif type_ == 11:\n",
    "            G.x[j][0] = 6\n",
    "\n",
    "\n",
    "print(f'After: G_1 embedings are: {Graphs_pyTorch[1].x}')"
   ]
  },
  {
   "cell_type": "markdown",
   "id": "45ceb058",
   "metadata": {
    "papermill": {
     "duration": 0.07577,
     "end_time": "2023-04-30T10:23:24.718351",
     "exception": false,
     "start_time": "2023-04-30T10:23:24.642581",
     "status": "completed"
    },
    "tags": []
   },
   "source": [
    "> Normalization for the centroids columns & hot encoding the type one for the graphs data."
   ]
  },
  {
   "cell_type": "code",
   "execution_count": 219,
   "id": "931a28d4",
   "metadata": {
    "execution": {
     "iopub.execute_input": "2023-04-30T10:23:24.871328Z",
     "iopub.status.busy": "2023-04-30T10:23:24.870716Z",
     "iopub.status.idle": "2023-04-30T10:23:34.135726Z",
     "shell.execute_reply": "2023-04-30T10:23:34.134468Z"
    },
    "papermill": {
     "duration": 9.346005,
     "end_time": "2023-04-30T10:23:34.139783",
     "exception": false,
     "start_time": "2023-04-30T10:23:24.793778",
     "status": "completed"
    },
    "tags": []
   },
   "outputs": [
    {
     "name": "stderr",
     "output_type": "stream",
     "text": [
      "100%|██████████| 80787/80787 [00:05<00:00, 14780.51it/s]\n"
     ]
    }
   ],
   "source": [
    "for G in tqdm(Graphs_pyTorch, total=len(Graphs_pyTorch)):\n",
    "    # normalize x, y\n",
    "    G.x[:, 1] = (G.x[:, 1] - G_x_mean) / G_x_std\n",
    "    G.x[:, 2] = (G.x[:, 2] - G_y_mean) / G_y_std\n",
    "\n",
    "    # normalize min_area\n",
    "    G.x[:, 3] = (G.x[:, 3] - min_area_mean) / min_area_std\n",
    "\n",
    "    # one-hot encoding of room type\n",
    "    first_column_encodings = F.one_hot(G.x[:, 0].long(), 7)\n",
    "\n",
    "    # concat: [one-hot room type] + [normalized x, y, min_area]\n",
    "    G.x = torch.cat([first_column_encodings, G.x[:, 1:]], axis=1)\n"
   ]
  },
  {
   "cell_type": "code",
   "execution_count": 220,
   "id": "d3336033",
   "metadata": {},
   "outputs": [
    {
     "data": {
      "image/png": "[encoded data removed]",
      "text/plain": [
       "<Figure size 640x480 with 1 Axes>"
      ]
     },
     "metadata": {},
     "output_type": "display_data"
    }
   ],
   "source": [
    "import matplotlib.pyplot as plt\n",
    "\n",
    "min_areas = [G.x[:, -1].tolist() for G in Graphs_pyTorch] \n",
    "min_areas = [val for sublist in min_areas for val in sublist]  # flatten\n",
    "\n",
    "plt.hist(min_areas, bins=30, edgecolor='black')\n",
    "plt.title(\"Distribution of normalized min_area\")\n",
    "plt.xlabel(\"min_area value\")\n",
    "plt.ylabel(\"Count\")\n",
    "plt.grid(True)\n",
    "plt.show()\n"
   ]
  },
  {
   "cell_type": "code",
   "execution_count": 221,
   "id": "6a55841b",
   "metadata": {},
   "outputs": [
    {
     "name": "stdout",
     "output_type": "stream",
     "text": [
      "min_area_stats.json saved\n"
     ]
    }
   ],
   "source": [
    "import json\n",
    "\n",
    "min_area_stats = {\n",
    "    \"mean\": min_area_mean.item() if hasattr(min_area_mean, \"item\") else float(min_area_mean),\n",
    "    \"std\": min_area_std.item() if hasattr(min_area_std, \"item\") else float(min_area_std)\n",
    "}\n",
    "\n",
    "with open(\"min_area_stats.json\", \"w\") as f:\n",
    "    json.dump(min_area_stats, f)\n",
    "\n",
    "print(\"min_area_stats.json saved\")\n"
   ]
  },
  {
   "cell_type": "code",
   "execution_count": 222,
   "id": "9d761724",
   "metadata": {
    "execution": {
     "iopub.execute_input": "2023-04-30T10:23:34.362759Z",
     "iopub.status.busy": "2023-04-30T10:23:34.361716Z",
     "iopub.status.idle": "2023-04-30T10:23:34.370079Z",
     "shell.execute_reply": "2023-04-30T10:23:34.369078Z"
    },
    "papermill": {
     "duration": 0.092836,
     "end_time": "2023-04-30T10:23:34.372382",
     "exception": false,
     "start_time": "2023-04-30T10:23:34.279546",
     "status": "completed"
    },
    "tags": []
   },
   "outputs": [
    {
     "name": "stdout",
     "output_type": "stream",
     "text": [
      "Now, we could return back to real values: \n",
      "tensor([[ 81.9371, 137.1722],\n",
      "        [181.5403, 165.1201],\n",
      "        [ 59.5000,  55.5000],\n",
      "        [192.0000, 127.0000],\n",
      "        [120.7426, 100.7954],\n",
      "        [132.6687, 167.8575],\n",
      "        [152.0459, 100.5418]])\n"
     ]
    }
   ],
   "source": [
    "return_to_real = Graphs_pyTorch[1].x[:, [-3, -2]] * torch.tensor([G_x_std, G_y_std]) + torch.Tensor([G_x_mean, G_y_mean])\n",
    "print(f\"Now, we could return back to real values: \\n{return_to_real}\")"
   ]
  },
  {
   "cell_type": "markdown",
   "id": "d42fa2ca",
   "metadata": {
    "papermill": {
     "duration": 0.081334,
     "end_time": "2023-04-30T10:23:34.536262",
     "exception": false,
     "start_time": "2023-04-30T10:23:34.454928",
     "status": "completed"
    },
    "tags": []
   },
   "source": [
    "> Normalizing the centroid of the boundaries"
   ]
  },
  {
   "cell_type": "code",
   "execution_count": 223,
   "id": "cf3b60af",
   "metadata": {
    "execution": {
     "iopub.execute_input": "2023-04-30T10:23:34.701601Z",
     "iopub.status.busy": "2023-04-30T10:23:34.701228Z",
     "iopub.status.idle": "2023-04-30T10:23:44.843816Z",
     "shell.execute_reply": "2023-04-30T10:23:44.842734Z"
    },
    "papermill": {
     "duration": 10.22769,
     "end_time": "2023-04-30T10:23:44.846232",
     "exception": false,
     "start_time": "2023-04-30T10:23:34.618542",
     "status": "completed"
    },
    "tags": []
   },
   "outputs": [
    {
     "name": "stderr",
     "output_type": "stream",
     "text": [
      "getting all Xs, Ys: 100%|██████████| 80787/80787 [00:05<00:00, 14047.90it/s]\n"
     ]
    },
    {
     "data": {
      "text/plain": [
       "(245.0, 244.0, 12.0, 11.0)"
      ]
     },
     "execution_count": 223,
     "metadata": {},
     "output_type": "execute_result"
    }
   ],
   "source": [
    "B_x, B_y = get_all_x_y(Boundaries_pyTorch)\n",
    "B_x.max(), B_y.max(), B_x.min(), B_y.min()"
   ]
  },
  {
   "cell_type": "code",
   "execution_count": 224,
   "id": "4481e7c7",
   "metadata": {
    "execution": {
     "iopub.execute_input": "2023-04-30T10:23:45.020652Z",
     "iopub.status.busy": "2023-04-30T10:23:45.019631Z",
     "iopub.status.idle": "2023-04-30T10:23:45.297824Z",
     "shell.execute_reply": "2023-04-30T10:23:45.296636Z"
    },
    "papermill": {
     "duration": 0.367687,
     "end_time": "2023-04-30T10:23:45.300235",
     "exception": false,
     "start_time": "2023-04-30T10:23:44.932548",
     "status": "completed"
    },
    "tags": []
   },
   "outputs": [
    {
     "data": {
      "image/png": "[encoded data removed]",
      "text/plain": [
       "<Figure size 640x480 with 1 Axes>"
      ]
     },
     "metadata": {},
     "output_type": "display_data"
    }
   ],
   "source": [
    "boxplot_centrValues(B_x, B_y)"
   ]
  },
  {
   "cell_type": "code",
   "execution_count": 225,
   "id": "8968a6e2",
   "metadata": {
    "execution": {
     "iopub.execute_input": "2023-04-30T10:23:45.476009Z",
     "iopub.status.busy": "2023-04-30T10:23:45.475142Z",
     "iopub.status.idle": "2023-04-30T10:23:46.145438Z",
     "shell.execute_reply": "2023-04-30T10:23:46.144290Z"
    },
    "papermill": {
     "duration": 0.761415,
     "end_time": "2023-04-30T10:23:46.147812",
     "exception": false,
     "start_time": "2023-04-30T10:23:45.386397",
     "status": "completed"
    },
    "tags": []
   },
   "outputs": [
    {
     "data": {
      "image/png": "[encoded data removed]",
      "text/plain": [
       "<Figure size 640x480 with 1 Axes>"
      ]
     },
     "metadata": {},
     "output_type": "display_data"
    }
   ],
   "source": [
    "plot_histograms(B_x, B_y)"
   ]
  },
  {
   "cell_type": "markdown",
   "id": "38b54640",
   "metadata": {
    "papermill": {
     "duration": 0.085951,
     "end_time": "2023-04-30T10:23:46.320350",
     "exception": false,
     "start_time": "2023-04-30T10:23:46.234399",
     "status": "completed"
    },
    "tags": []
   },
   "source": [
    "> And we saw the box plots so there is no outliers.\n",
    "> \n",
    "> We will use z-score normalization, by taking a general mean and std for each of x and y"
   ]
  },
  {
   "cell_type": "code",
   "execution_count": 226,
   "id": "daf802b2",
   "metadata": {
    "execution": {
     "iopub.execute_input": "2023-04-30T10:23:46.495091Z",
     "iopub.status.busy": "2023-04-30T10:23:46.494731Z",
     "iopub.status.idle": "2023-04-30T10:23:46.521115Z",
     "shell.execute_reply": "2023-04-30T10:23:46.520124Z"
    },
    "papermill": {
     "duration": 0.116823,
     "end_time": "2023-04-30T10:23:46.523280",
     "exception": false,
     "start_time": "2023-04-30T10:23:46.406457",
     "status": "completed"
    },
    "tags": []
   },
   "outputs": [
    {
     "name": "stdout",
     "output_type": "stream",
     "text": [
      "And we saw the box plots so there is no outliers, and the distribution is normal\n",
      "We will use z-score normalization\n"
     ]
    }
   ],
   "source": [
    "# print(f\"Maximun x: {max_x}, Maximum y: {max_y}, Minimum x: {min_x}, Minimum y: {min_y}\")\n",
    "print(\"And we saw the box plots so there is no outliers, and the distribution is normal\")\n",
    "B_x_mean = B_x.mean()\n",
    "B_y_mean = B_y.mean()\n",
    "B_x_std  = B_x.std()\n",
    "B_y_std  = B_y.std()\n",
    "print(\"We will use z-score normalization\")"
   ]
  },
  {
   "cell_type": "code",
   "execution_count": 227,
   "id": "f20a1b10",
   "metadata": {
    "execution": {
     "iopub.execute_input": "2023-04-30T10:23:46.698534Z",
     "iopub.status.busy": "2023-04-30T10:23:46.697539Z",
     "iopub.status.idle": "2023-04-30T10:23:50.425878Z",
     "shell.execute_reply": "2023-04-30T10:23:50.424721Z"
    },
    "papermill": {
     "duration": 3.818632,
     "end_time": "2023-04-30T10:23:50.428876",
     "exception": false,
     "start_time": "2023-04-30T10:23:46.610244",
     "status": "completed"
    },
    "tags": []
   },
   "outputs": [
    {
     "name": "stderr",
     "output_type": "stream",
     "text": [
      "100%|██████████| 80787/80787 [00:01<00:00, 53902.30it/s]\n"
     ]
    }
   ],
   "source": [
    "for b in tqdm(Boundaries_pyTorch, total=len(Boundaries_pyTorch)):\n",
    "    \n",
    "    # Making tensor of means = [x_mean, y_mean] & tensor of stds = [x_std, y_std].\n",
    "    # We could make a tensor of ones = [rows, 2] then multiply it by the means, But we directly \n",
    "    # multiply the means using the idea of \"Broadcasting\".\n",
    "    b.x[:, 1:] = (b.x[:, 1:] - torch.tensor([B_x_mean, B_y_mean])) / torch.tensor([B_x_std, B_y_std])"
   ]
  },
  {
   "cell_type": "code",
   "execution_count": 228,
   "id": "b473308c",
   "metadata": {
    "execution": {
     "iopub.execute_input": "2023-04-30T10:23:50.609015Z",
     "iopub.status.busy": "2023-04-30T10:23:50.608617Z",
     "iopub.status.idle": "2023-04-30T10:23:50.617081Z",
     "shell.execute_reply": "2023-04-30T10:23:50.615603Z"
    },
    "papermill": {
     "duration": 0.1004,
     "end_time": "2023-04-30T10:23:50.619299",
     "exception": false,
     "start_time": "2023-04-30T10:23:50.518899",
     "status": "completed"
    },
    "tags": []
   },
   "outputs": [
    {
     "name": "stdout",
     "output_type": "stream",
     "text": [
      "Now, we could return back to real values: \n",
      "tensor([[ 48.0000,  36.0000],\n",
      "        [ 48.0000, 220.0000],\n",
      "        [106.0000, 220.0000],\n",
      "        [106.0000, 196.0000],\n",
      "        [208.0000, 195.0000],\n",
      "        [208.0000, 117.0000],\n",
      "        [172.0000, 117.0000],\n",
      "        [171.0000,  81.0000],\n",
      "        [ 72.0000,  81.0000],\n",
      "        [ 71.0000,  36.0000],\n",
      "        [100.0000,  78.0000]], dtype=torch.float64)\n"
     ]
    }
   ],
   "source": [
    "return_to_real = Boundaries_pyTorch[1].x[:, [-2, -1]] * torch.tensor([B_x_std, B_y_std]) + torch.Tensor([B_x_mean, B_y_mean])\n",
    "print(f\"Now, we could return back to real values: \\n{return_to_real}\")"
   ]
  },
  {
   "cell_type": "markdown",
   "id": "68b53688",
   "metadata": {
    "papermill": {
     "duration": 0.088495,
     "end_time": "2023-04-30T10:23:50.795726",
     "exception": false,
     "start_time": "2023-04-30T10:23:50.707231",
     "status": "completed"
    },
    "tags": []
   },
   "source": [
    "> If we need to creat graphs with padding by the maximum number of nodes."
   ]
  },
  {
   "cell_type": "code",
   "execution_count": 229,
   "id": "53524348",
   "metadata": {
    "execution": {
     "iopub.execute_input": "2023-04-30T10:23:50.973925Z",
     "iopub.status.busy": "2023-04-30T10:23:50.972879Z",
     "iopub.status.idle": "2023-04-30T10:23:50.978394Z",
     "shell.execute_reply": "2023-04-30T10:23:50.977373Z"
    },
    "papermill": {
     "duration": 0.096914,
     "end_time": "2023-04-30T10:23:50.980480",
     "exception": false,
     "start_time": "2023-04-30T10:23:50.883566",
     "status": "completed"
    },
    "tags": []
   },
   "outputs": [],
   "source": [
    "# # but we need to do some padding to our graphs to be all of the same number of nodes.\n",
    "# padded_graphs = []\n",
    "# for G in Graphs_pyTorch:\n",
    "#     x          = G.x\n",
    "#     y          = G.roomType_embd\n",
    "#     edge_index = G.edge_index\n",
    "#     edge_attr  = G.edge_attr\n",
    "    \n",
    "#     nu_nodes = x.shape[0]\n",
    "\n",
    "#     padded_x = torch.nn.functional.pad(x, pad=(0, 0, 0, 8 - nu_nodes), mode='constant', value=0)\n",
    "#     padded_y = torch.nn.functional.pad(y, pad=(0, 8 - nu_nodes), mode='constant', value=0)\n",
    "#     train_mask   = torch.ones(nu_nodes)\n",
    "#     train_mask   = torch.nn.functional.pad(train_mask, pad=(0, 8 - nu_nodes), mode='constant', value=0).to(bool)\n",
    "\n",
    "#     data = Data(x = padded_x, y = padded_y, edge_index= G.edge_index, edge_attr = G.edge_attr, train_mask=train_mask)\n",
    "\n",
    "#     padded_graphs.append(data)\n",
    "\n",
    "# padded_graphs[0]"
   ]
  },
  {
   "cell_type": "markdown",
   "id": "049e10b2",
   "metadata": {
    "papermill": {
     "duration": 0.087461,
     "end_time": "2023-04-30T10:23:51.156059",
     "exception": false,
     "start_time": "2023-04-30T10:23:51.068598",
     "status": "completed"
    },
    "tags": []
   },
   "source": [
    "<a id='model'></a>\n",
    "## GNN Model"
   ]
  },
  {
   "cell_type": "markdown",
   "id": "85ff165f",
   "metadata": {
    "papermill": {
     "duration": 0.088543,
     "end_time": "2023-04-30T10:23:51.374884",
     "exception": false,
     "start_time": "2023-04-30T10:23:51.286341",
     "status": "completed"
    },
    "tags": []
   },
   "source": [
    "<a id='dataLoader'></a>\n",
    "### Data Loader"
   ]
  },
  {
   "cell_type": "code",
   "execution_count": 230,
   "id": "c7d2461b",
   "metadata": {
    "execution": {
     "iopub.execute_input": "2023-04-30T10:23:51.553460Z",
     "iopub.status.busy": "2023-04-30T10:23:51.553077Z",
     "iopub.status.idle": "2023-04-30T10:23:51.561404Z",
     "shell.execute_reply": "2023-04-30T10:23:51.560237Z"
    },
    "papermill": {
     "duration": 0.100848,
     "end_time": "2023-04-30T10:23:51.563499",
     "exception": false,
     "start_time": "2023-04-30T10:23:51.462651",
     "status": "completed"
    },
    "tags": []
   },
   "outputs": [],
   "source": [
    "class Planify_Dataset(Dataset):\n",
    "    def __init__(self, Graphs, Boundaries):\n",
    "        self.Graphs = Graphs\n",
    "        self.Boundaries = Boundaries\n",
    "        self.device = torch.device('cuda' if torch.cuda.is_available() else 'cpu')\n",
    "    \n",
    "    def __len__(self):\n",
    "        return len(self.Graphs)\n",
    "\n",
    "    def __getitem__(self, index):\n",
    "        G = self.Graphs[index].clone().to(self.device)\n",
    "        B = self.Boundaries[index].clone().to(self.device)\n",
    "        B.x = B.x.to(G.x.dtype)\n",
    "        B.edge_index = B.edge_index.to(G.edge_index.dtype)\n",
    "        B.edge_attr = B.edge_attr.to(G.edge_attr.dtype)\n",
    "        \n",
    "        # shuffling nodes inside the same graph\n",
    "        # permutation = torch.randperm(G.num_nodes).to(self.device)\n",
    "        \n",
    "        # G.x = G.x[permutation]\n",
    "        # G.edge_index = permutation[G.edge_index]\n",
    "        # G.rec_w = G.rec_w[permutation]\n",
    "        # G.rec_h = G.rec_h[permutation]\n",
    "        # G.edge_attr = G.edge_attr[permutation]\n",
    "        \n",
    "        # padded_x = torch.nn.functional.pad(x, pad=(0, 0, 0, 8 - nu_nodes), mode='constant', value=0)\n",
    "        # padded_y = torch.nn.functional.pad(y, pad=(0, 8 - nu_nodes), mode='constant', value=0)\n",
    "        graphs = {\n",
    "            'G': G,\n",
    "            'B': B\n",
    "        }\n",
    "        \n",
    "        return graphs"
   ]
  },
  {
   "cell_type": "code",
   "execution_count": 231,
   "id": "00d373d3",
   "metadata": {
    "execution": {
     "iopub.execute_input": "2023-04-30T10:23:51.740469Z",
     "iopub.status.busy": "2023-04-30T10:23:51.739499Z",
     "iopub.status.idle": "2023-04-30T10:23:51.744793Z",
     "shell.execute_reply": "2023-04-30T10:23:51.743816Z"
    },
    "papermill": {
     "duration": 0.096127,
     "end_time": "2023-04-30T10:23:51.746944",
     "exception": false,
     "start_time": "2023-04-30T10:23:51.650817",
     "status": "completed"
    },
    "tags": []
   },
   "outputs": [],
   "source": [
    "edge = int(len(Graphs_pyTorch) * 0.8)"
   ]
  },
  {
   "cell_type": "code",
   "execution_count": 232,
   "id": "1eb9ec39",
   "metadata": {
    "execution": {
     "iopub.execute_input": "2023-04-30T10:23:51.925374Z",
     "iopub.status.busy": "2023-04-30T10:23:51.924576Z",
     "iopub.status.idle": "2023-04-30T10:23:51.934903Z",
     "shell.execute_reply": "2023-04-30T10:23:51.933843Z"
    },
    "papermill": {
     "duration": 0.101891,
     "end_time": "2023-04-30T10:23:51.937038",
     "exception": false,
     "start_time": "2023-04-30T10:23:51.835147",
     "status": "completed"
    },
    "tags": []
   },
   "outputs": [
    {
     "name": "stdout",
     "output_type": "stream",
     "text": [
      "Train dataset: 64629, Val dataset: 16148, Test dataset: 10\n"
     ]
    }
   ],
   "source": [
    "batch_size = 32\n",
    "train_dataset = Planify_Dataset(Graphs_pyTorch[:edge], Boundaries_pyTorch[:edge])\n",
    "train_loader  = DataLoader(train_dataset, batch_size=batch_size, shuffle=True)\n",
    "\n",
    "val_dataset = Planify_Dataset(Graphs_pyTorch[edge:-10], Boundaries_pyTorch[edge:-10])\n",
    "val_loader  = DataLoader(val_dataset, batch_size=batch_size, shuffle=True)\n",
    "\n",
    "test_dataset = Planify_Dataset(Graphs_pyTorch[-10:], Boundaries_pyTorch[-10:])\n",
    "test_loader  = DataLoader(test_dataset, batch_size=batch_size, shuffle=True)\n",
    "\n",
    "print(f\"Train dataset: {len(train_dataset)}, Val dataset: {len(val_dataset)}, Test dataset: {len(test_dataset)}\")"
   ]
  },
  {
   "cell_type": "code",
   "execution_count": 233,
   "id": "f74306cc",
   "metadata": {
    "execution": {
     "iopub.execute_input": "2023-04-30T10:23:52.128693Z",
     "iopub.status.busy": "2023-04-30T10:23:52.127408Z",
     "iopub.status.idle": "2023-04-30T10:23:52.134553Z",
     "shell.execute_reply": "2023-04-30T10:23:52.133657Z"
    },
    "papermill": {
     "duration": 0.112004,
     "end_time": "2023-04-30T10:23:52.136592",
     "exception": false,
     "start_time": "2023-04-30T10:23:52.024588",
     "status": "completed"
    },
    "tags": []
   },
   "outputs": [],
   "source": [
    "# Saving model function\n",
    "import os\n",
    "\n",
    "checkpoint_dir = \"./checkpoints\"\n",
    "\n",
    "if not os.path.exists(checkpoint_dir):\n",
    "    os.makedirs(checkpoint_dir)\n",
    "    \n",
    "\n",
    "def save_checkpoint(model, optimizer, epoch):\n",
    "    checkpoint_path = os.path.join(checkpoint_dir, f'Best_model_v4.pt')\n",
    "    torch.save({\n",
    "        'model_state_dict': model.state_dict(),\n",
    "        'optimizer_state_dict': optimizer.state_dict(),\n",
    "        'epoch': epoch\n",
    "    }, checkpoint_path)\n",
    "    \n",
    "    print('Model saved :)')"
   ]
  },
  {
   "cell_type": "markdown",
   "id": "f2f2b4ef",
   "metadata": {
    "papermill": {
     "duration": 0.088145,
     "end_time": "2023-04-30T10:23:52.312877",
     "exception": false,
     "start_time": "2023-04-30T10:23:52.224732",
     "status": "completed"
    },
    "tags": []
   },
   "source": [
    "<a id='archi'></a>\n",
    "### Architecture"
   ]
  },
  {
   "cell_type": "code",
   "execution_count": 234,
   "id": "959526a2",
   "metadata": {
    "execution": {
     "iopub.execute_input": "2023-04-30T10:23:52.491574Z",
     "iopub.status.busy": "2023-04-30T10:23:52.491222Z",
     "iopub.status.idle": "2023-04-30T10:23:55.201618Z",
     "shell.execute_reply": "2023-04-30T10:23:55.200531Z"
    },
    "papermill": {
     "duration": 2.803107,
     "end_time": "2023-04-30T10:23:55.203979",
     "exception": false,
     "start_time": "2023-04-30T10:23:52.400872",
     "status": "completed"
    },
    "tags": []
   },
   "outputs": [
    {
     "name": "stdout",
     "output_type": "stream",
     "text": [
      "Graph node feature dim: 10\n",
      "Boundary node feature dim: 3\n"
     ]
    },
    {
     "data": {
      "text/plain": [
       "GATNet(\n",
       "  (graph_conv1): GATConv(10, 32, heads=4)\n",
       "  (graph_conv2): GATConv(138, 32, heads=8)\n",
       "  (graph_conv3): GATConv(266, 64, heads=8)\n",
       "  (graph_conv4): GATConv(522, 128, heads=8)\n",
       "  (boundary_conv1): GATConv(3, 32, heads=4)\n",
       "  (boundary_conv2): GATConv(131, 32, heads=8)\n",
       "  (Concatination1): GATConv(1293, 128, heads=8)\n",
       "  (width_layer1): Linear(in_features=1024, out_features=128, bias=True)\n",
       "  (height_layer1): Linear(in_features=1024, out_features=128, bias=True)\n",
       "  (width_output): Linear(in_features=128, out_features=1, bias=True)\n",
       "  (height_output): Linear(in_features=128, out_features=1, bias=True)\n",
       "  (dropout): Dropout(p=0.2, inplace=False)\n",
       ")"
      ]
     },
     "execution_count": 234,
     "metadata": {},
     "output_type": "execute_result"
    }
   ],
   "source": [
    "class GATNet(torch.nn.Module):\n",
    "    def __init__(self, num_graph_node_features, num_boundary_node_features):\n",
    "        super(GATNet, self).__init__()\n",
    "        \n",
    "        self.graph_conv1 = GATConv(num_graph_node_features, 32, heads=4)\n",
    "        \n",
    "        input_of_conv2   = num_graph_node_features + 32*4\n",
    "        self.graph_conv2 = GATConv(input_of_conv2, 32, heads=8)\n",
    "        \n",
    "        input_of_conv3   = num_graph_node_features + 32*8\n",
    "        self.graph_conv3 = GATConv(input_of_conv3, 64, heads=8)\n",
    "        \n",
    "        input_of_conv4   = num_graph_node_features + 64*8\n",
    "        self.graph_conv4 = GATConv(input_of_conv4, 128, heads=8)\n",
    "        # self.graph_conv5 = GATConv(128*8, 128, heads=8)\n",
    "        # self.graph_conv6 = GATConv(128*8, 128, heads=16)\n",
    "        # self.graph_conv7 = GATConv(128*16, 256, heads=16)\n",
    "        # self.graph_conv8 = GATConv(256*16, 256, heads=16)\n",
    "        shape_of_graphs_befor_concatination = num_graph_node_features + 128*8\n",
    "        \n",
    "        self.boundary_conv1 = GATConv(num_boundary_node_features, 32, heads=4)\n",
    "        input_of_boundary_conv2 = 32*4 + num_boundary_node_features\n",
    "        self.boundary_conv2 = GATConv(input_of_boundary_conv2, 32, heads=8)\n",
    "        # self.boundary_conv3 = GATConv(32*8, 64, heads=8)\n",
    "        # self.boundary_conv4 = GATConv(64*8, 128, heads=8)\n",
    "        # self.boundary_conv5 = GATConv(128*8, 128, heads=8)\n",
    "        shape_of_boundary_befor_concatination = num_boundary_node_features + 32 * 8\n",
    "        \n",
    "        # Output of graph_conv8 + output of boundary_conv5 + 2 step connection from real nodes and boundary nodes\n",
    "        inputs_concatination = shape_of_graphs_befor_concatination + shape_of_boundary_befor_concatination\n",
    "        self.Concatination1  = GATConv(inputs_concatination, 128, heads=8)\n",
    "        # self.Concatination2  = GATConv(128*8, 64, heads=8)\n",
    "        # self.Concatination3  = GATConv(64*8, 64, heads=8)\n",
    "        # self.Concatination4  = GATConv(64*8, 32, heads=8)\n",
    "        # self.Concatination5  = GATConv(32*8, 32*4)\n",
    "        \n",
    "        # self.lin1 = nn.Linear(inputs_concatination, 256)\n",
    "        # self.lin2 = nn.Linear(256, 32)\n",
    "\n",
    "        self.width_layer1  = nn.Linear(128*8, 128)\n",
    "        self.height_layer1 = nn.Linear(128*8, 128)\n",
    "        \n",
    "        # self.width_layer2  = nn.Linear(256, 128)\n",
    "        # self.height_layer2 = nn.Linear(256, 128)\n",
    "        \n",
    "        # self.width_layer3  = nn.Linear(128, 32)\n",
    "        # self.height_layer3 = nn.Linear(128, 32)\n",
    "        \n",
    "        # self.width_layer4  = nn.Linear(32, 8)\n",
    "        # self.height_layer4 = nn.Linear(32, 8)\n",
    "        \n",
    "        self.width_output  = nn.Linear(128, 1)\n",
    "        self.height_output = nn.Linear(128, 1)\n",
    "        \n",
    "        \n",
    "        self.dropout = torch.nn.Dropout(0.2)\n",
    "        \n",
    "    def forward(self, graph, boundary):\n",
    "        x_graph, g_edge_index, g_edge_attr, g_batch = graph.x, graph.edge_index, graph.edge_attr, graph.batch\n",
    "        x_boundary, b_edge_indexy, b_edge_attr, b_batch = boundary.x, boundary.edge_index, boundary.edge_attr, boundary.batch\n",
    "        \n",
    "        NUM_OF_NODES = x_graph.shape[0]\n",
    "        # During testing, as we input only one graph.\n",
    "        if g_batch == None:\n",
    "            g_batch = torch.zeros(x_graph.shape[0], dtype=torch.long)\n",
    "        if b_batch == None:\n",
    "            b_batch = torch.zeros(x_boundary.shape[0], dtype=torch.long)\n",
    "        \n",
    "        \n",
    "        x_graph_res = x_graph\n",
    "        x_boundary_res = x_boundary\n",
    "        \n",
    "        # Passing the graph throught a message passing to embed its features\n",
    "        x_graph = F.leaky_relu(self.graph_conv1(x_graph, g_edge_index, g_edge_attr))\n",
    "        x_graph = self.dropout(x_graph) # Concatinate with step connection from real values.\n",
    "        x_graph = torch.cat([x_graph, x_graph_res], dim=1)\n",
    "        \n",
    "        \n",
    "        x_graph = F.leaky_relu(self.graph_conv2(x_graph, g_edge_index, g_edge_attr))\n",
    "        x_graph = self.dropout(x_graph)\n",
    "        x_graph = torch.cat([x_graph, x_graph_res], dim=1)\n",
    "        \n",
    "        x_graph = F.leaky_relu(self.graph_conv3(x_graph, g_edge_index))\n",
    "        x_graph = self.dropout(x_graph) \n",
    "        x_graph = torch.cat([x_graph, x_graph_res], dim=1)\n",
    "        \n",
    "        x_graph = F.leaky_relu(self.graph_conv4(x_graph, g_edge_index))\n",
    "        x_graph = self.dropout(x_graph) \n",
    "        x_graph = torch.cat([x_graph, x_graph_res], dim=1)\n",
    "        \n",
    "        # x_graph = F.leaky_relu(self.graph_conv5(x_graph, g_edge_index))\n",
    "        # x_graph = F.leaky_relu(self.graph_conv6(x_graph, g_edge_index))\n",
    "        # x_graph = self.dropout(x_graph)\n",
    "        # x_graph = F.leaky_relu(self.graph_conv7(x_graph, g_edge_index))\n",
    "        # x_graph = F.leaky_relu(self.graph_conv8(x_graph, g_edge_index))\n",
    "        # x_graph = self.dropout(x_graph)\n",
    "        \n",
    "        \n",
    "        # Passing the boundary throught a message passing to embed its features\n",
    "        x_boundary = F.leaky_relu(self.boundary_conv1(x_boundary, b_edge_indexy, b_edge_attr))\n",
    "        x_boundary = self.dropout(x_boundary)\n",
    "        x_boundary = torch.cat([x_boundary, x_boundary_res], dim=1)\n",
    "        \n",
    "        x_boundary = F.leaky_relu(self.boundary_conv2(x_boundary, b_edge_indexy, b_edge_attr))\n",
    "        x_boundary = self.dropout(x_boundary)\n",
    "        x_boundary = torch.cat([x_boundary, x_boundary_res], dim=1)\n",
    "        \n",
    "        # x_boundary = F.leaky_relu(self.boundary_conv3(x_boundary, b_edge_indexy))\n",
    "        # x_boundary = self.dropout(x_boundary)\n",
    "        # x_boundary = F.leaky_relu(self.boundary_conv4(x_boundary, b_edge_indexy))\n",
    "        # x_boundary = F.leaky_relu(self.boundary_conv5(x_boundary, b_edge_indexy))\n",
    "        # x_boundary = self.dropout(x_boundary)\n",
    "\n",
    "        # Pooling the bounadry to 1D vector by getting max value in each feature for all nodes.\n",
    "        x_boundary_pooled = F.max_pool1d(x_boundary.transpose(0, 1), kernel_size=x_boundary.shape[0]).view(1, -1)\n",
    "        \n",
    "        # Concatinating the graph & the boundary\n",
    "        x = torch.cat([x_graph, x_boundary_pooled.repeat(NUM_OF_NODES, 1)], dim=1)\n",
    "        x = F.leaky_relu(self.Concatination1(x, g_edge_index))\n",
    "        x = self.dropout(x)\n",
    "        # x = F.leaky_relu(self.Concatination2(x, g_edge_index))\n",
    "        # x = self.dropout(x)\n",
    "        # x = F.leaky_relu(self.Concatination3(x, g_edge_index))\n",
    "        # x = self.dropout(x)\n",
    "        # x = F.leaky_relu(self.Concatination4(x, g_edge_index))\n",
    "        # x = self.dropout(x)\n",
    "        # x = F.leaky_relu(self.Concatination5(x, g_edge_index))\n",
    "        # x = self.dropout(x)\n",
    "        \n",
    "        # x = F.leaky_relu(self.lin1(x))\n",
    "        # x = self.dropout(x)\n",
    "        # x = F.leaky_relu(self.lin2(x))\n",
    "        # x = self.dropout(x)\n",
    "        \n",
    "        \n",
    "        width = F.leaky_relu(self.width_layer1(x))\n",
    "        # width = F.leaky_relu(self.width_layer2(width))\n",
    "        # width = F.leaky_relu(self.width_layer3(width))\n",
    "        # width = F.leaky_relu(self.width_layer4(width))\n",
    "        width = self.dropout(width)\n",
    "        width = self.width_output(width)\n",
    "        \n",
    "        height = F.leaky_relu(self.height_layer1(x))\n",
    "        # height = F.leaky_relu(self.height_layer2(height))\n",
    "        # height = F.leaky_relu(self.height_layer3(height))\n",
    "        # height = F.leaky_relu(self.height_layer4(height))\n",
    "        height = self.dropout(height)\n",
    "        height = self.height_output(height)\n",
    "        \n",
    "        return width.squeeze(), height.squeeze()\n",
    "\n",
    "num_graph_node_features = Graphs_pyTorch[0].x.shape[1]\n",
    "num_boundary_node_features = Boundaries_pyTorch[0].x.shape[1]\n",
    "print(\"Graph node feature dim:\", num_graph_node_features)\n",
    "print(\"Boundary node feature dim:\", num_boundary_node_features)\n",
    "\n",
    "model = GATNet(num_graph_node_features, num_boundary_node_features)\n",
    "\n",
    "device = torch.device('cuda' if torch.cuda.is_available() else 'cpu')\n",
    "model = model.to(device)\n",
    "\n",
    "# to monitor the loss & accuracy.\n",
    "errors = []\n",
    "acc = []\n",
    "\n",
    "model"
   ]
  },
  {
   "cell_type": "code",
   "execution_count": 235,
   "id": "a302a40c",
   "metadata": {
    "execution": {
     "iopub.execute_input": "2023-04-30T10:23:55.382856Z",
     "iopub.status.busy": "2023-04-30T10:23:55.382168Z",
     "iopub.status.idle": "2023-04-30T10:23:55.391127Z",
     "shell.execute_reply": "2023-04-30T10:23:55.390110Z"
    },
    "papermill": {
     "duration": 0.100603,
     "end_time": "2023-04-30T10:23:55.393232",
     "exception": false,
     "start_time": "2023-04-30T10:23:55.292629",
     "status": "completed"
    },
    "tags": []
   },
   "outputs": [],
   "source": [
    "def train(model, optimizer, criterion, train_loader):\n",
    "    model.train()\n",
    "    running_loss = 0.0\n",
    "    for i, data in enumerate(train_loader):\n",
    "        optimizer.zero_grad()\n",
    "        # Forward pass\n",
    "        graph, boundary = data['G'], data['B']\n",
    "        \n",
    "        width, height    = model(graph, boundary)\n",
    "        \n",
    "        width_loss = criterion(width, graph.rec_w)\n",
    "        height_loss = criterion(height, graph.rec_h)\n",
    "\n",
    "        loss = width_loss + height_loss\n",
    "\n",
    "        # Backward pass\n",
    "        loss.backward()\n",
    "        \n",
    "        # Updating parameters\n",
    "        optimizer.step()\n",
    "\n",
    "        # Monitoring\n",
    "        running_loss += loss.item()\n",
    "        \n",
    "    return running_loss / len(train_loader)\n",
    "\n",
    "\n",
    "def evaluate(model, criterion, val_loader):\n",
    "    model.eval()\n",
    "    running_loss = 0.0\n",
    "    with torch.no_grad():\n",
    "        for data in val_loader:\n",
    "            graph, boundary = data['G'], data['B']\n",
    "            width, height    = model(graph, boundary)\n",
    "            width_loss = criterion(width, graph.rec_w)\n",
    "            height_loss = criterion(height, graph.rec_h)\n",
    "\n",
    "            loss = width_loss + height_loss\n",
    "            running_loss += loss.item()\n",
    "            \n",
    "    return running_loss / len(val_loader)"
   ]
  },
  {
   "cell_type": "code",
   "execution_count": 236,
   "id": "624ff519",
   "metadata": {
    "execution": {
     "iopub.execute_input": "2023-04-30T10:23:55.572938Z",
     "iopub.status.busy": "2023-04-30T10:23:55.572338Z",
     "iopub.status.idle": "2023-04-30T10:23:55.580714Z",
     "shell.execute_reply": "2023-04-30T10:23:55.579770Z"
    },
    "papermill": {
     "duration": 0.10166,
     "end_time": "2023-04-30T10:23:55.583063",
     "exception": false,
     "start_time": "2023-04-30T10:23:55.481403",
     "status": "completed"
    },
    "tags": []
   },
   "outputs": [],
   "source": [
    "from copy import deepcopy\n",
    "\n",
    "# Hyperparameters\n",
    "learning_rate = 0.0005\n",
    "num_epochs = 250\n",
    "patience = 10 # Number of epochs to wait if validation loss doesn't improve\n",
    "best_val_loss = float('inf')\n",
    "\n",
    "counter = 0\n",
    "\n",
    "optimizer = torch.optim.Adam(model.parameters(), lr=learning_rate, weight_decay=3e-5)\n",
    "criterion = nn.MSELoss()\n",
    "scheduler = torch.optim.lr_scheduler.StepLR(optimizer, step_size=1, gamma=0.950)\n",
    "\n",
    "# Notice\n",
    "train_losses = []\n",
    "val_losses = []\n"
   ]
  },
  {
   "cell_type": "markdown",
   "id": "b4c46bce",
   "metadata": {
    "papermill": {
     "duration": 0.088084,
     "end_time": "2023-04-30T10:23:55.946041",
     "exception": false,
     "start_time": "2023-04-30T10:23:55.857957",
     "status": "completed"
    },
    "tags": []
   },
   "source": [
    "<a id='train'></a>\n",
    "### Training\n"
   ]
  },
  {
   "cell_type": "code",
   "execution_count": 237,
   "id": "064ffa11",
   "metadata": {
    "execution": {
     "iopub.execute_input": "2023-04-30T10:23:56.165298Z",
     "iopub.status.busy": "2023-04-30T10:23:56.164231Z",
     "iopub.status.idle": "2023-04-30T15:47:20.136560Z",
     "shell.execute_reply": "2023-04-30T15:47:20.135339Z"
    },
    "papermill": {
     "duration": 19404.104626,
     "end_time": "2023-04-30T15:47:20.138946",
     "exception": false,
     "start_time": "2023-04-30T10:23:56.034320",
     "status": "completed"
    },
    "tags": []
   },
   "outputs": [
    {
     "name": "stdout",
     "output_type": "stream",
     "text": [
      "Validating ...\n",
      "Epoch [1/250], Train Loss: 622.1475, Validation Loss: 354.4361\n",
      "Model saved :)\n",
      "Validating ...\n",
      "Epoch [2/250], Train Loss: 283.0320, Validation Loss: 360.4797\n",
      "Validating ...\n",
      "Epoch [3/250], Train Loss: 247.7465, Validation Loss: 391.6334\n",
      "Learning rate decreased!, now is 0.000475\n",
      "Validating ...\n",
      "Epoch [4/250], Train Loss: 229.8109, Validation Loss: 334.6419\n",
      "Model saved :)\n",
      "Validating ...\n",
      "Epoch [5/250], Train Loss: 219.0481, Validation Loss: 303.2863\n",
      "Model saved :)\n",
      "Validating ...\n",
      "Epoch [6/250], Train Loss: 211.4654, Validation Loss: 250.2382\n",
      "Model saved :)\n",
      "Validating ...\n",
      "Epoch [7/250], Train Loss: 205.3283, Validation Loss: 258.8395\n",
      "Validating ...\n",
      "Epoch [8/250], Train Loss: 200.1264, Validation Loss: 235.4422\n",
      "Model saved :)\n",
      "Validating ...\n",
      "Epoch [9/250], Train Loss: 195.3210, Validation Loss: 239.3479\n",
      "Validating ...\n",
      "Epoch [10/250], Train Loss: 191.9040, Validation Loss: 258.8887\n",
      "Learning rate decreased!, now is 0.00045125\n",
      "Validating ...\n",
      "Epoch [11/250], Train Loss: 187.8720, Validation Loss: 262.2199\n",
      "Validating ...\n",
      "Epoch [12/250], Train Loss: 184.4843, Validation Loss: 214.0744\n",
      "Model saved :)\n",
      "Validating ...\n",
      "Epoch [13/250], Train Loss: 182.9988, Validation Loss: 229.3824\n",
      "Validating ...\n",
      "Epoch [14/250], Train Loss: 180.2954, Validation Loss: 218.0716\n",
      "Learning rate decreased!, now is 0.0004286875\n",
      "Validating ...\n",
      "Epoch [15/250], Train Loss: 177.5158, Validation Loss: 220.4066\n",
      "Validating ...\n",
      "Epoch [16/250], Train Loss: 175.6810, Validation Loss: 192.8137\n",
      "Model saved :)\n",
      "Validating ...\n",
      "Epoch [17/250], Train Loss: 173.5187, Validation Loss: 207.2472\n",
      "Validating ...\n",
      "Epoch [18/250], Train Loss: 172.0169, Validation Loss: 181.7411\n",
      "Model saved :)\n",
      "Validating ...\n",
      "Epoch [19/250], Train Loss: 170.0356, Validation Loss: 181.6801\n",
      "Model saved :)\n",
      "Validating ...\n",
      "Epoch [20/250], Train Loss: 168.0596, Validation Loss: 175.4633\n",
      "Model saved :)\n",
      "Validating ...\n",
      "Epoch [21/250], Train Loss: 166.9213, Validation Loss: 175.0252\n",
      "Model saved :)\n",
      "Validating ...\n",
      "Epoch [22/250], Train Loss: 165.7382, Validation Loss: 186.3112\n",
      "Validating ...\n",
      "Epoch [23/250], Train Loss: 164.0549, Validation Loss: 157.4054\n",
      "Model saved :)\n",
      "Validating ...\n",
      "Epoch [24/250], Train Loss: 163.4694, Validation Loss: 168.9864\n",
      "Validating ...\n",
      "Epoch [25/250], Train Loss: 162.0974, Validation Loss: 164.3979\n",
      "Learning rate decreased!, now is 0.00040725312499999993\n",
      "Validating ...\n",
      "Epoch [26/250], Train Loss: 160.5459, Validation Loss: 159.3892\n",
      "Validating ...\n",
      "Epoch [27/250], Train Loss: 159.2385, Validation Loss: 155.1543\n",
      "Model saved :)\n",
      "Validating ...\n",
      "Epoch [28/250], Train Loss: 158.3719, Validation Loss: 161.1208\n",
      "Validating ...\n",
      "Epoch [29/250], Train Loss: 156.8816, Validation Loss: 159.4548\n",
      "Learning rate decreased!, now is 0.0003868904687499999\n",
      "Validating ...\n",
      "Epoch [30/250], Train Loss: 155.6101, Validation Loss: 160.2695\n",
      "Validating ...\n",
      "Epoch [31/250], Train Loss: 154.3482, Validation Loss: 159.7559\n",
      "Learning rate decreased!, now is 0.0003675459453124999\n",
      "Validating ...\n",
      "Epoch [32/250], Train Loss: 153.1678, Validation Loss: 146.0962\n",
      "Model saved :)\n",
      "Validating ...\n",
      "Epoch [33/250], Train Loss: 152.2748, Validation Loss: 160.8540\n",
      "Validating ...\n",
      "Epoch [34/250], Train Loss: 151.8839, Validation Loss: 151.9583\n",
      "Learning rate decreased!, now is 0.00034916864804687486\n",
      "Validating ...\n",
      "Epoch [35/250], Train Loss: 150.4700, Validation Loss: 145.6592\n",
      "Model saved :)\n",
      "Validating ...\n",
      "Epoch [36/250], Train Loss: 149.5570, Validation Loss: 151.1303\n",
      "Validating ...\n",
      "Epoch [37/250], Train Loss: 149.2863, Validation Loss: 154.8671\n",
      "Learning rate decreased!, now is 0.0003317102156445311\n",
      "Validating ...\n",
      "Epoch [38/250], Train Loss: 148.1297, Validation Loss: 149.3733\n",
      "Validating ...\n",
      "Epoch [39/250], Train Loss: 147.2433, Validation Loss: 142.4224\n",
      "Model saved :)\n",
      "Validating ...\n",
      "Epoch [40/250], Train Loss: 146.6124, Validation Loss: 145.2893\n",
      "Validating ...\n",
      "Epoch [41/250], Train Loss: 146.3084, Validation Loss: 144.8220\n",
      "Learning rate decreased!, now is 0.0003151247048623045\n",
      "Validating ...\n",
      "Epoch [42/250], Train Loss: 144.7998, Validation Loss: 142.9610\n",
      "Validating ...\n",
      "Epoch [43/250], Train Loss: 144.2945, Validation Loss: 134.8562\n",
      "Model saved :)\n",
      "Validating ...\n",
      "Epoch [44/250], Train Loss: 143.3497, Validation Loss: 145.9928\n",
      "Validating ...\n",
      "Epoch [45/250], Train Loss: 142.9050, Validation Loss: 138.0122\n",
      "Learning rate decreased!, now is 0.00029936846961918924\n",
      "Validating ...\n",
      "Epoch [46/250], Train Loss: 142.2342, Validation Loss: 144.1028\n",
      "Validating ...\n",
      "Epoch [47/250], Train Loss: 141.4403, Validation Loss: 142.5991\n",
      "Learning rate decreased!, now is 0.00028440004613822977\n",
      "Validating ...\n",
      "Epoch [48/250], Train Loss: 140.7988, Validation Loss: 135.0902\n",
      "Validating ...\n",
      "Epoch [49/250], Train Loss: 140.0520, Validation Loss: 138.5473\n",
      "Learning rate decreased!, now is 0.00027018004383131826\n",
      "Validating ...\n",
      "Epoch [50/250], Train Loss: 139.1018, Validation Loss: 134.7781\n",
      "Model saved :)\n",
      "Validating ...\n",
      "Epoch [51/250], Train Loss: 138.4638, Validation Loss: 138.0915\n",
      "Validating ...\n",
      "Epoch [52/250], Train Loss: 138.2237, Validation Loss: 139.2329\n",
      "Learning rate decreased!, now is 0.00025667104163975234\n",
      "Validating ...\n",
      "Epoch [53/250], Train Loss: 137.3669, Validation Loss: 133.7001\n",
      "Model saved :)\n",
      "Validating ...\n",
      "Epoch [54/250], Train Loss: 136.9315, Validation Loss: 144.1831\n",
      "Validating ...\n",
      "Epoch [55/250], Train Loss: 136.6951, Validation Loss: 137.0835\n",
      "Learning rate decreased!, now is 0.00024383748955776472\n",
      "Validating ...\n",
      "Epoch [56/250], Train Loss: 136.0392, Validation Loss: 134.4483\n",
      "Validating ...\n",
      "Epoch [57/250], Train Loss: 135.4582, Validation Loss: 141.0862\n",
      "Learning rate decreased!, now is 0.00023164561507987649\n",
      "Validating ...\n",
      "Epoch [58/250], Train Loss: 134.8569, Validation Loss: 133.2716\n",
      "Model saved :)\n",
      "Validating ...\n",
      "Epoch [59/250], Train Loss: 134.6574, Validation Loss: 131.6783\n",
      "Model saved :)\n",
      "Validating ...\n",
      "Epoch [60/250], Train Loss: 133.8034, Validation Loss: 132.4227\n",
      "Validating ...\n",
      "Epoch [61/250], Train Loss: 133.6055, Validation Loss: 131.3366\n",
      "Model saved :)\n",
      "Validating ...\n",
      "Epoch [62/250], Train Loss: 133.2434, Validation Loss: 132.5240\n",
      "Validating ...\n",
      "Epoch [63/250], Train Loss: 132.6408, Validation Loss: 131.2861\n",
      "Model saved :)\n",
      "Validating ...\n",
      "Epoch [64/250], Train Loss: 132.7339, Validation Loss: 134.0629\n",
      "Validating ...\n",
      "Epoch [65/250], Train Loss: 132.5513, Validation Loss: 129.4256\n",
      "Model saved :)\n",
      "Validating ...\n",
      "Epoch [66/250], Train Loss: 132.1683, Validation Loss: 130.7958\n",
      "Validating ...\n",
      "Epoch [67/250], Train Loss: 131.4523, Validation Loss: 134.1773\n",
      "Learning rate decreased!, now is 0.00022006333432588265\n",
      "Validating ...\n",
      "Epoch [68/250], Train Loss: 130.8983, Validation Loss: 131.1772\n",
      "Validating ...\n",
      "Epoch [69/250], Train Loss: 130.7883, Validation Loss: 130.0221\n",
      "Learning rate decreased!, now is 0.00020906016760958852\n",
      "Validating ...\n",
      "Epoch [70/250], Train Loss: 129.8574, Validation Loss: 129.5863\n",
      "Validating ...\n",
      "Epoch [71/250], Train Loss: 130.1613, Validation Loss: 132.8717\n",
      "Learning rate decreased!, now is 0.00019860715922910907\n",
      "Validating ...\n",
      "Epoch [72/250], Train Loss: 129.6056, Validation Loss: 127.5891\n",
      "Model saved :)\n",
      "Validating ...\n",
      "Epoch [73/250], Train Loss: 129.2195, Validation Loss: 130.4469\n",
      "Validating ...\n",
      "Epoch [74/250], Train Loss: 128.4547, Validation Loss: 128.4544\n",
      "Learning rate decreased!, now is 0.0001886768012676536\n",
      "Validating ...\n",
      "Epoch [75/250], Train Loss: 128.1620, Validation Loss: 129.6879\n",
      "Validating ...\n",
      "Epoch [76/250], Train Loss: 127.9603, Validation Loss: 130.9399\n",
      "Learning rate decreased!, now is 0.0001792429612042709\n",
      "Validating ...\n",
      "Epoch [77/250], Train Loss: 127.3176, Validation Loss: 127.6068\n",
      "Validating ...\n",
      "Epoch [78/250], Train Loss: 126.9879, Validation Loss: 131.6563\n",
      "Learning rate decreased!, now is 0.00017028081314405735\n",
      "Validating ...\n",
      "Epoch [79/250], Train Loss: 126.4921, Validation Loss: 128.6363\n",
      "Validating ...\n",
      "Epoch [80/250], Train Loss: 126.3780, Validation Loss: 132.1312\n",
      "Learning rate decreased!, now is 0.00016176677248685447\n",
      "Validating ...\n",
      "Epoch [81/250], Train Loss: 126.1381, Validation Loss: 129.4758\n",
      "Validating ...\n",
      "Epoch [82/250], Train Loss: 125.8034, Validation Loss: 127.2103\n",
      "Model saved :)\n",
      "Validating ...\n",
      "Epoch [83/250], Train Loss: 125.4006, Validation Loss: 128.0272\n",
      "Validating ...\n",
      "Epoch [84/250], Train Loss: 125.1865, Validation Loss: 126.2047\n",
      "Model saved :)\n",
      "Validating ...\n",
      "Epoch [85/250], Train Loss: 124.9076, Validation Loss: 127.9885\n",
      "Validating ...\n",
      "Epoch [86/250], Train Loss: 124.8965, Validation Loss: 126.2931\n",
      "Learning rate decreased!, now is 0.00015367843386251173\n",
      "Validating ...\n",
      "Epoch [87/250], Train Loss: 124.4039, Validation Loss: 126.4729\n",
      "Validating ...\n",
      "Epoch [88/250], Train Loss: 124.5115, Validation Loss: 127.4683\n",
      "Learning rate decreased!, now is 0.00014599451216938612\n",
      "Validating ...\n",
      "Epoch [89/250], Train Loss: 123.8710, Validation Loss: 126.4328\n",
      "Validating ...\n",
      "Epoch [90/250], Train Loss: 123.7238, Validation Loss: 127.8547\n",
      "Learning rate decreased!, now is 0.00013869478656091682\n",
      "Validating ...\n",
      "Epoch [91/250], Train Loss: 123.3523, Validation Loss: 126.5113\n",
      "Validating ...\n",
      "Epoch [92/250], Train Loss: 123.1556, Validation Loss: 127.0198\n",
      "Learning rate decreased!, now is 0.00013176004723287096\n",
      "Validating ...\n",
      "Epoch [93/250], Train Loss: 122.7154, Validation Loss: 126.0867\n",
      "Model saved :)\n",
      "Validating ...\n",
      "Epoch [94/250], Train Loss: 122.2580, Validation Loss: 125.2655\n",
      "Model saved :)\n",
      "Validating ...\n",
      "Epoch [95/250], Train Loss: 122.3562, Validation Loss: 127.6495\n",
      "Validating ...\n",
      "Epoch [96/250], Train Loss: 121.9316, Validation Loss: 125.6021\n",
      "Learning rate decreased!, now is 0.0001251720448712274\n",
      "Validating ...\n",
      "Epoch [97/250], Train Loss: 122.0894, Validation Loss: 126.8407\n",
      "Validating ...\n",
      "Epoch [98/250], Train Loss: 121.5135, Validation Loss: 126.6463\n",
      "Learning rate decreased!, now is 0.00011891344262766602\n",
      "Validating ...\n",
      "Epoch [99/250], Train Loss: 121.3521, Validation Loss: 125.2771\n",
      "Validating ...\n",
      "Epoch [100/250], Train Loss: 121.1285, Validation Loss: 125.2230\n",
      "Model saved :)\n",
      "Validating ...\n",
      "Epoch [101/250], Train Loss: 121.4753, Validation Loss: 126.3648\n",
      "Validating ...\n",
      "Epoch [102/250], Train Loss: 120.7356, Validation Loss: 125.8371\n",
      "Learning rate decreased!, now is 0.00011296777049628272\n",
      "Validating ...\n",
      "Epoch [103/250], Train Loss: 120.7581, Validation Loss: 125.0121\n",
      "Model saved :)\n",
      "Validating ...\n",
      "Epoch [104/250], Train Loss: 120.1523, Validation Loss: 125.5123\n",
      "Validating ...\n",
      "Epoch [105/250], Train Loss: 120.4417, Validation Loss: 124.4726\n",
      "Model saved :)\n",
      "Validating ...\n",
      "Epoch [106/250], Train Loss: 120.2233, Validation Loss: 125.4206\n",
      "Validating ...\n",
      "Epoch [107/250], Train Loss: 119.5279, Validation Loss: 125.1707\n",
      "Learning rate decreased!, now is 0.00010731938197146858\n",
      "Validating ...\n",
      "Epoch [108/250], Train Loss: 119.6257, Validation Loss: 124.5332\n",
      "Validating ...\n",
      "Epoch [109/250], Train Loss: 119.6924, Validation Loss: 124.7889\n",
      "Learning rate decreased!, now is 0.00010195341287289515\n",
      "Validating ...\n",
      "Epoch [110/250], Train Loss: 119.5684, Validation Loss: 123.9354\n",
      "Model saved :)\n",
      "Validating ...\n",
      "Epoch [111/250], Train Loss: 119.1130, Validation Loss: 124.5889\n",
      "Validating ...\n",
      "Epoch [112/250], Train Loss: 118.9193, Validation Loss: 123.8317\n",
      "Model saved :)\n",
      "Validating ...\n",
      "Epoch [113/250], Train Loss: 119.2668, Validation Loss: 124.7024\n",
      "Validating ...\n",
      "Epoch [114/250], Train Loss: 119.0585, Validation Loss: 125.7983\n",
      "Learning rate decreased!, now is 9.685574222925039e-05\n",
      "Validating ...\n",
      "Epoch [115/250], Train Loss: 118.6969, Validation Loss: 124.5781\n",
      "Validating ...\n",
      "Epoch [116/250], Train Loss: 118.3158, Validation Loss: 126.0268\n",
      "Learning rate decreased!, now is 9.201295511778786e-05\n",
      "Validating ...\n",
      "Epoch [117/250], Train Loss: 118.2433, Validation Loss: 124.3063\n",
      "Validating ...\n",
      "Epoch [118/250], Train Loss: 118.0661, Validation Loss: 123.9595\n",
      "Learning rate decreased!, now is 8.741230736189846e-05\n",
      "Validating ...\n",
      "Epoch [119/250], Train Loss: 117.9390, Validation Loss: 123.6447\n",
      "Model saved :)\n",
      "Validating ...\n",
      "Epoch [120/250], Train Loss: 118.0599, Validation Loss: 124.3571\n",
      "Validating ...\n",
      "Epoch [121/250], Train Loss: 117.9238, Validation Loss: 124.3516\n",
      "Learning rate decreased!, now is 8.304169199380353e-05\n",
      "Validating ...\n",
      "Epoch [122/250], Train Loss: 117.6676, Validation Loss: 123.7968\n",
      "Validating ...\n",
      "Epoch [123/250], Train Loss: 117.5828, Validation Loss: 124.3092\n",
      "Learning rate decreased!, now is 7.888960739411335e-05\n",
      "Validating ...\n",
      "Epoch [124/250], Train Loss: 117.4431, Validation Loss: 123.8780\n",
      "Validating ...\n",
      "Epoch [125/250], Train Loss: 117.4366, Validation Loss: 123.5355\n",
      "Model saved :)\n",
      "Validating ...\n",
      "Epoch [126/250], Train Loss: 117.0825, Validation Loss: 123.6237\n",
      "Validating ...\n",
      "Epoch [127/250], Train Loss: 116.8127, Validation Loss: 124.2221\n",
      "Learning rate decreased!, now is 7.494512702440768e-05\n",
      "Validating ...\n",
      "Epoch [128/250], Train Loss: 116.6872, Validation Loss: 124.1460\n",
      "Validating ...\n",
      "Epoch [129/250], Train Loss: 116.4539, Validation Loss: 124.2021\n",
      "Learning rate decreased!, now is 7.119787067318729e-05\n",
      "Validating ...\n",
      "Epoch [130/250], Train Loss: 116.3723, Validation Loss: 124.0099\n",
      "Validating ...\n",
      "Epoch [131/250], Train Loss: 116.3508, Validation Loss: 123.4441\n",
      "Model saved :)\n",
      "Validating ...\n",
      "Epoch [132/250], Train Loss: 116.0158, Validation Loss: 124.1727\n",
      "Validating ...\n",
      "Epoch [133/250], Train Loss: 116.2003, Validation Loss: 125.2921\n",
      "Learning rate decreased!, now is 6.763797713952792e-05\n",
      "Validating ...\n",
      "Epoch [134/250], Train Loss: 115.9699, Validation Loss: 123.6811\n",
      "Validating ...\n",
      "Epoch [135/250], Train Loss: 115.7289, Validation Loss: 123.6431\n",
      "Learning rate decreased!, now is 6.425607828255152e-05\n",
      "Validating ...\n",
      "Epoch [136/250], Train Loss: 115.4319, Validation Loss: 123.0743\n",
      "Model saved :)\n",
      "Validating ...\n",
      "Epoch [137/250], Train Loss: 115.4554, Validation Loss: 124.0080\n",
      "Validating ...\n",
      "Epoch [138/250], Train Loss: 115.6700, Validation Loss: 123.3197\n",
      "Learning rate decreased!, now is 6.104327436842394e-05\n",
      "Validating ...\n",
      "Epoch [139/250], Train Loss: 115.5163, Validation Loss: 123.8613\n",
      "Validating ...\n",
      "Epoch [140/250], Train Loss: 115.2238, Validation Loss: 123.2668\n",
      "Learning rate decreased!, now is 5.799111065000274e-05\n",
      "Validating ...\n",
      "Epoch [141/250], Train Loss: 115.1313, Validation Loss: 123.2081\n",
      "Validating ...\n",
      "Epoch [142/250], Train Loss: 115.0618, Validation Loss: 124.1578\n",
      "Learning rate decreased!, now is 5.5091555117502596e-05\n",
      "Validating ...\n",
      "Epoch [143/250], Train Loss: 114.8992, Validation Loss: 124.2602\n",
      "Validating ...\n",
      "Epoch [144/250], Train Loss: 114.6724, Validation Loss: 123.1732\n",
      "Learning rate decreased!, now is 5.2336977361627463e-05\n",
      "Validating ...\n",
      "Epoch [145/250], Train Loss: 114.8016, Validation Loss: 123.2608\n",
      "Validating ...\n",
      "Epoch [146/250], Train Loss: 114.7752, Validation Loss: 123.0427\n",
      "Model saved :)\n",
      "Validating ...\n",
      "Epoch [147/250], Train Loss: 114.3556, Validation Loss: 123.0236\n",
      "Model saved :)\n",
      "Validating ...\n",
      "Epoch [148/250], Train Loss: 114.3896, Validation Loss: 122.8732\n",
      "Model saved :)\n",
      "Validating ...\n",
      "Epoch [149/250], Train Loss: 114.4424, Validation Loss: 123.4357\n",
      "Validating ...\n",
      "Epoch [150/250], Train Loss: 114.3628, Validation Loss: 123.2442\n",
      "Learning rate decreased!, now is 4.972012849354609e-05\n",
      "Validating ...\n",
      "Epoch [151/250], Train Loss: 114.2082, Validation Loss: 123.4962\n",
      "Validating ...\n",
      "Epoch [152/250], Train Loss: 114.1122, Validation Loss: 123.2780\n",
      "Learning rate decreased!, now is 4.723412206886878e-05\n",
      "Validating ...\n",
      "Epoch [153/250], Train Loss: 113.8708, Validation Loss: 123.4950\n",
      "Validating ...\n",
      "Epoch [154/250], Train Loss: 114.1911, Validation Loss: 123.0741\n",
      "Learning rate decreased!, now is 4.487241596542534e-05\n",
      "Validating ...\n",
      "Epoch [155/250], Train Loss: 113.7746, Validation Loss: 122.9724\n",
      "Validating ...\n",
      "Epoch [156/250], Train Loss: 113.6994, Validation Loss: 123.4735\n",
      "Learning rate decreased!, now is 4.262879516715407e-05\n",
      "Validating ...\n",
      "Epoch [157/250], Train Loss: 113.5637, Validation Loss: 123.4195\n",
      "Validating ...\n",
      "Epoch [158/250], Train Loss: 113.6784, Validation Loss: 122.7757\n",
      "Model saved :)\n",
      "Validating ...\n",
      "Epoch [159/250], Train Loss: 113.3568, Validation Loss: 122.9017\n",
      "Validating ...\n",
      "Epoch [160/250], Train Loss: 113.4590, Validation Loss: 122.6813\n",
      "Model saved :)\n",
      "Validating ...\n",
      "Epoch [161/250], Train Loss: 113.6372, Validation Loss: 122.6579\n",
      "Model saved :)\n",
      "Validating ...\n",
      "Epoch [162/250], Train Loss: 113.3303, Validation Loss: 123.4166\n",
      "Validating ...\n",
      "Epoch [163/250], Train Loss: 113.3540, Validation Loss: 123.8193\n",
      "Learning rate decreased!, now is 4.049735540879637e-05\n",
      "Validating ...\n",
      "Epoch [164/250], Train Loss: 113.2679, Validation Loss: 122.9702\n",
      "Validating ...\n",
      "Epoch [165/250], Train Loss: 113.2606, Validation Loss: 122.6800\n",
      "Learning rate decreased!, now is 3.847248763835655e-05\n",
      "Validating ...\n",
      "Epoch [166/250], Train Loss: 113.2353, Validation Loss: 122.8097\n",
      "Validating ...\n",
      "Epoch [167/250], Train Loss: 113.2132, Validation Loss: 123.1843\n",
      "Learning rate decreased!, now is 3.654886325643872e-05\n",
      "Validating ...\n",
      "Epoch [168/250], Train Loss: 112.7365, Validation Loss: 122.9903\n",
      "Validating ...\n",
      "Epoch [169/250], Train Loss: 112.9268, Validation Loss: 122.6957\n",
      "Learning rate decreased!, now is 3.472142009361678e-05\n",
      "Validating ...\n",
      "Epoch [170/250], Train Loss: 112.8061, Validation Loss: 123.2794\n",
      "Validating ...\n",
      "Epoch [171/250], Train Loss: 112.6631, Validation Loss: 122.4965\n",
      "Model saved :)\n",
      "Validating ...\n",
      "Epoch [172/250], Train Loss: 112.7768, Validation Loss: 122.9323\n",
      "Validating ...\n",
      "Epoch [173/250], Train Loss: 112.5407, Validation Loss: 122.4516\n",
      "Model saved :)\n",
      "Validating ...\n",
      "Epoch [174/250], Train Loss: 112.6451, Validation Loss: 122.5627\n",
      "Validating ...\n",
      "Epoch [175/250], Train Loss: 112.5465, Validation Loss: 122.9690\n",
      "Learning rate decreased!, now is 3.2985349088935944e-05\n",
      "Validating ...\n",
      "Epoch [176/250], Train Loss: 112.5107, Validation Loss: 122.3250\n",
      "Model saved :)\n",
      "Validating ...\n",
      "Epoch [177/250], Train Loss: 112.6040, Validation Loss: 123.2237\n",
      "Validating ...\n",
      "Epoch [178/250], Train Loss: 112.4542, Validation Loss: 122.4429\n",
      "Learning rate decreased!, now is 3.1336081634489146e-05\n",
      "Validating ...\n",
      "Epoch [179/250], Train Loss: 112.2248, Validation Loss: 122.8818\n",
      "Validating ...\n",
      "Epoch [180/250], Train Loss: 112.0661, Validation Loss: 122.5208\n",
      "Learning rate decreased!, now is 2.9769277552764686e-05\n",
      "Validating ...\n",
      "Epoch [181/250], Train Loss: 112.2759, Validation Loss: 122.8125\n",
      "Validating ...\n",
      "Epoch [182/250], Train Loss: 112.0064, Validation Loss: 123.2224\n",
      "Learning rate decreased!, now is 2.828081367512645e-05\n",
      "Validating ...\n",
      "Epoch [183/250], Train Loss: 112.0474, Validation Loss: 122.5967\n",
      "Validating ...\n",
      "Epoch [184/250], Train Loss: 112.3682, Validation Loss: 122.7039\n",
      "Learning rate decreased!, now is 2.6866772991370125e-05\n",
      "Validating ...\n",
      "Epoch [185/250], Train Loss: 111.9784, Validation Loss: 122.5643\n",
      "Validating ...\n",
      "Epoch [186/250], Train Loss: 111.5549, Validation Loss: 122.6057\n",
      "Validation loss did not improve for 10 epochs. Stopping early.\n"
     ]
    }
   ],
   "source": [
    "for epoch in range(num_epochs):\n",
    "    # Training loop\n",
    "    train_loss = train(model, optimizer, criterion, train_loader)\n",
    "    train_losses.append(train_loss)\n",
    "    \n",
    "    # Evaluation loop\n",
    "    print('Validating ...')\n",
    "    val_loss = evaluate(model, criterion, val_loader)\n",
    "    val_losses.append(val_loss)\n",
    "    \n",
    "    # Printing and monitoring\n",
    "    print(f'Epoch [{epoch + 1}/{num_epochs}], Train Loss: {train_loss:.4f}, Validation Loss: {val_loss:.4f}')\n",
    "     \n",
    "    \n",
    "    # Early stopping\n",
    "    if val_loss < best_val_loss:\n",
    "        best_val_loss = val_loss\n",
    "        best_model = deepcopy(model)\n",
    "        save_checkpoint(best_model, optimizer, epoch)\n",
    "        counter = 0\n",
    "        \n",
    "    else:\n",
    "        counter += 1\n",
    "        if counter >= patience:\n",
    "            print(f'Validation loss did not improve for {patience} epochs. Stopping early.')\n",
    "            break\n",
    "        if counter in range(2, 20, 2):\n",
    "            scheduler.step()\n",
    "            print(f\"Learning rate decreased!, now is {optimizer.state_dict()['param_groups'][0]['lr']}\")"
   ]
  },
  {
   "cell_type": "code",
   "execution_count": 238,
   "id": "61496f10",
   "metadata": {},
   "outputs": [],
   "source": [
    "# def save_checkpoint(model, optimizer, epoch, suffix=\"\"):\n",
    "#     filename = f'Best_model_V3{suffix}.pt' if suffix else 'Best_model_V3.pt'\n",
    "#     checkpoint_path = os.path.join(checkpoint_dir, filename)\n",
    "    \n",
    "#     torch.save({\n",
    "#         'model_state_dict': model.state_dict(),\n",
    "#         'optimizer_state_dict': optimizer.state_dict(),\n",
    "#         'epoch': epoch\n",
    "#     }, checkpoint_path)\n",
    "    \n",
    "#     print(f'Model saved to {filename} :)')"
   ]
  },
  {
   "cell_type": "code",
   "execution_count": 239,
   "id": "209f602e",
   "metadata": {},
   "outputs": [],
   "source": [
    "# # run this if you have bunch of time (over 12 hours lmao)\n",
    "# # this section tests diff parameters and see which one is the best set\n",
    "# from copy import deepcopy\n",
    "# import itertools\n",
    "\n",
    "# device = torch.device(\"cuda\" if torch.cuda.is_available() else \"cpu\")\n",
    "\n",
    "# learning_rates = [1e-3, 5e-4, 1e-4]\n",
    "# weight_decays = [0, 1e-5, 3e-5]\n",
    "# gammas = [0.98, 0.95]\n",
    "\n",
    "# num_epochs = 250\n",
    "# patience = 10\n",
    "\n",
    "# results = []\n",
    "\n",
    "# for lr, wd, gamma in itertools.product(learning_rates, weight_decays, gammas):\n",
    "#     print(f\"\\n===== Training with lr={lr}, weight_decay={wd}, gamma={gamma} =====\")\n",
    "\n",
    "#     model = GATNet(num_graph_node_features, num_boundary_node_features).to(device)\n",
    "\n",
    "#     optimizer = torch.optim.Adam(model.parameters(), lr=lr, weight_decay=wd)\n",
    "#     scheduler = torch.optim.lr_scheduler.StepLR(optimizer, step_size=1, gamma=gamma)\n",
    "#     criterion = nn.MSELoss()\n",
    "\n",
    "#     best_val_loss = float('inf')\n",
    "#     counter = 0\n",
    "#     train_losses = []\n",
    "#     val_losses = []\n",
    "\n",
    "#     for epoch in range(num_epochs):\n",
    "#         train_loss = train(model, optimizer, criterion, train_loader)\n",
    "#         train_losses.append(train_loss)\n",
    "\n",
    "#         val_loss = evaluate(model, criterion, val_loader)\n",
    "#         val_losses.append(val_loss)\n",
    "\n",
    "#         print(f'Epoch [{epoch+1}/{num_epochs}] | Train: {train_loss:.4f} | Val: {val_loss:.4f}')\n",
    "\n",
    "#         if val_loss < best_val_loss:\n",
    "#             best_val_loss = val_loss\n",
    "#             best_model = deepcopy(model)\n",
    "#             save_checkpoint(best_model, optimizer, epoch, suffix=f'lr{lr}_wd{wd}_gamma{gamma}')\n",
    "#             counter = 0\n",
    "#         else:\n",
    "#             counter += 1\n",
    "#             if counter >= patience:\n",
    "#                 print(f\"Early stopping triggered at epoch {epoch+1}\")\n",
    "#                 break\n",
    "#             if counter in range(2, 20, 2):\n",
    "#                 scheduler.step()\n",
    "#                 print(f\"Learning rate decreased! Now: {optimizer.state_dict()['param_groups'][0]['lr']}\")\n",
    "\n",
    "#     results.append({\n",
    "#         'lr': lr,\n",
    "#         'weight_decay': wd,\n",
    "#         'gamma': gamma,\n",
    "#         'best_val_loss': best_val_loss,\n",
    "#         'train_losses': train_losses,\n",
    "#         'val_losses': val_losses\n",
    "#     })\n",
    "\n",
    "# # summary\n",
    "# print(\"\\n========== Summary ==========\")\n",
    "# results.sort(key=lambda x: x['best_val_loss'])\n",
    "# for i, res in enumerate(results):\n",
    "#     print(f\"{i+1}. lr={res['lr']}, wd={res['weight_decay']}, gamma={res['gamma']}, best_val_loss={res['best_val_loss']:.4f}\")\n"
   ]
  },
  {
   "cell_type": "code",
   "execution_count": 240,
   "id": "325bdb9e",
   "metadata": {
    "execution": {
     "iopub.execute_input": "2023-04-30T16:25:32.654841Z",
     "iopub.status.busy": "2023-04-30T16:25:32.653794Z",
     "iopub.status.idle": "2023-04-30T16:25:32.869605Z",
     "shell.execute_reply": "2023-04-30T16:25:32.868597Z"
    },
    "papermill": {
     "duration": 0.335666,
     "end_time": "2023-04-30T16:25:32.872039",
     "exception": false,
     "start_time": "2023-04-30T16:25:32.536373",
     "status": "completed"
    },
    "tags": []
   },
   "outputs": [
    {
     "data": {
      "image/png": "[encoded data removed]",
      "text/plain": [
       "<Figure size 640x480 with 1 Axes>"
      ]
     },
     "metadata": {},
     "output_type": "display_data"
    }
   ],
   "source": [
    "plt.plot(train_losses, label=f'Best training    loss: {min(train_losses):.0f}');\n",
    "plt.plot(val_losses, label=f'Best validation loss: {min(val_losses):.0f}');\n",
    "plt.legend();"
   ]
  }
 ],
 "metadata": {
  "kernelspec": {
   "display_name": "Python 3",
   "language": "python",
   "name": "python3"
  },
  "language_info": {
   "codemirror_mode": {
    "name": "ipython",
    "version": 3
   },
   "file_extension": ".py",
   "mimetype": "text/x-python",
   "name": "python",
   "nbconvert_exporter": "python",
   "pygments_lexer": "ipython3",
   "version": "3.9.20"
  },
  "papermill": {
   "default_parameters": {},
   "duration": 21921.262399,
   "end_time": "2023-04-30T16:25:35.857235",
   "environment_variables": {},
   "exception": null,
   "input_path": "__notebook__.ipynb",
   "output_path": "__notebook__.ipynb",
   "parameters": {},
   "start_time": "2023-04-30T10:20:14.594836",
   "version": "2.4.0"
  }
 },
 "nbformat": 4,
 "nbformat_minor": 5
}
